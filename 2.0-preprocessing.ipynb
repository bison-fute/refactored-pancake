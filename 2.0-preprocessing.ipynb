{
 "cells": [
  {
   "cell_type": "code",
   "execution_count": 1,
   "metadata": {},
   "outputs": [
    {
     "name": "stdout",
     "output_type": "stream",
     "text": [
      "running on GPU = False\n"
     ]
    },
    {
     "name": "stderr",
     "output_type": "stream",
     "text": [
      "  0%|          | 10/84843 [00:00<14:53, 94.90it/s]"
     ]
    },
    {
     "name": "stdout",
     "output_type": "stream",
     "text": [
      "preprocessing training set\n"
     ]
    },
    {
     "name": "stderr",
     "output_type": "stream",
     "text": [
      " 47%|████▋     | 40001/84843 [08:42<09:45, 76.56it/s] \n",
      "  0%|          | 12/9981 [00:00<01:24, 118.55it/s]"
     ]
    },
    {
     "name": "stdout",
     "output_type": "stream",
     "text": [
      "preprocessing validation set\n"
     ]
    },
    {
     "name": "stderr",
     "output_type": "stream",
     "text": [
      " 50%|█████     | 5001/9981 [01:04<01:03, 78.09it/s]\n",
      "  0%|          | 12/105829 [00:00<15:14, 115.69it/s]"
     ]
    },
    {
     "name": "stdout",
     "output_type": "stream",
     "text": [
      "preprocessing test set\n"
     ]
    },
    {
     "name": "stderr",
     "output_type": "stream",
     "text": [
      " 38%|███▊      | 40001/105829 [09:36<15:48, 69.38it/s] \n"
     ]
    },
    {
     "name": "stdout",
     "output_type": "stream",
     "text": [
      "loading of datasets done\n"
     ]
    }
   ],
   "source": [
    "from libraries import * \n",
    "from preprocessing import downloading_loading_processed_files\n",
    "from utils import enframe\n",
    "warnings.filterwarnings(\"ignore\")\n",
    "\n",
    "# selecting GPU if possible\n",
    "device = torch.device(\"cuda\" if torch.cuda.is_available() else \"cpu\")\n",
    "print(f\"running on GPU = {str(device) == 'cuda'}\")\n",
    "\n",
    "# (down)loading split datasets, can be run twice if kernel dies 1st time\n",
    "train_set, validation_set, test_set = downloading_loading_processed_files(\n",
    "    downsampling=False)\n",
    "print(f\"loading of datasets done\")\n",
    "\n",
    "# setting up computational parameters\n",
    "if device == \"cuda\":\n",
    "    num_workers, pin_memory = 4, True\n",
    "else:\n",
    "    num_workers, pin_memory = 0, False"
   ]
  },
  {
   "cell_type": "code",
   "execution_count": 2,
   "metadata": {},
   "outputs": [],
   "source": [
    "# all element in dataset are shpae 78*13\n",
    "# about 2,8 to 2,9% of the inputs have nan in it (preprocessing problematic: dataset should be filtered\n",
    "\n",
    "def remove_nan_in(dataset):\n",
    "    not_nan_entries = []\n",
    "    for i, (lmfcc, sample_rate, label, speaker_id, utterance_number) in enumerate(dataset):\n",
    "        if not np.isnan(lmfcc).any():\n",
    "            not_nan_entries.append(i)\n",
    "    return np.array(dataset)[not_nan_entries]\n",
    "\n",
    "train_set = remove_nan_in(train_set)\n",
    "validation_set = remove_nan_in(validation_set)"
   ]
  },
  {
   "cell_type": "code",
   "execution_count": 3,
   "metadata": {},
   "outputs": [
    {
     "data": {
      "image/png": "[encoded data removed]",
      "text/plain": [
       "<Figure size 432x288 with 1 Axes>"
      ]
     },
     "metadata": {
      "needs_background": "light"
     },
     "output_type": "display_data"
    }
   ],
   "source": [
    "plt.pcolormesh(train_set[10][0].T);"
   ]
  },
  {
   "cell_type": "code",
   "execution_count": 4,
   "metadata": {},
   "outputs": [
    {
     "name": "stdout",
     "output_type": "stream",
     "text": [
      "set up of dataloader done\n"
     ]
    }
   ],
   "source": [
    "def pad_sequence(batch):\n",
    "    \"\"\" \n",
    "    desc: make all tensor in a batch the same length as the longest sequence by padding with zeros \n",
    "    \"\"\"\n",
    "    batch = [torch.from_numpy(item) for item in batch]\n",
    "    batch = torch.nn.utils.rnn.pad_sequence(batch, batch_first=True, padding_value=0.)\n",
    "    return batch.permute(0, 2, 1)  # in each tensor, target first, tensor second\n",
    "\n",
    "# encoding each word using its index in the list of labels\n",
    "def label_to_index(word):\n",
    "    \"\"\" \n",
    "    desc: return the position of the word in labels \n",
    "    \"\"\"\n",
    "    return torch.tensor(labels.index(word))\n",
    "    \n",
    "def collate_fn(batch):\n",
    "    \"\"\" \n",
    "    desc: turn audio's list batch into two batch tensors for model \n",
    "    \"\"\"\n",
    "    tensors, targets = [], []\n",
    "\n",
    "    # Gather in lists, and encode labels as indices\n",
    "    for waveform, _, label, *_ in batch:\n",
    "        tensors += [waveform]\n",
    "        targets += [label_to_index(label)]\n",
    "\n",
    "    # Group the list of tensors into a batched tensor\n",
    "    tensors = pad_sequence(tensors)\n",
    "    targets = torch.stack(targets)\n",
    "    return tensors, targets\n",
    "\n",
    "    \n",
    "# sets in to dataloaders\n",
    "batch_size = 256\n",
    "train_loader = torch.utils.data.DataLoader(\n",
    "    train_set, batch_size=batch_size, shuffle=True, collate_fn=collate_fn,\n",
    "    num_workers=num_workers, pin_memory=pin_memory)\n",
    "validation_loader = torch.utils.data.DataLoader(\n",
    "    validation_set, batch_size=batch_size, shuffle=False, drop_last=False,\n",
    "    collate_fn=collate_fn, num_workers=num_workers, pin_memory=pin_memory)\n",
    "test_loader = torch.utils.data.DataLoader(\n",
    "    validation_set, batch_size=batch_size, shuffle=False, drop_last=False,\n",
    "    collate_fn=collate_fn, num_workers=num_workers, pin_memory=pin_memory)\n",
    "print(f\"set up of dataloader done\")"
   ]
  },
  {
   "cell_type": "code",
   "execution_count": 11,
   "metadata": {
    "jp-MarkdownHeadingCollapsed": true,
    "tags": []
   },
   "outputs": [],
   "source": [
    "# MODEL (adapted from there: https://www.kaggle.com/code/talmanr/cnn-with-pytorch-using-mel-features/notebook)\n",
    "class CnnAudioNet(nn.Module):\n",
    "    def __init__(self,NumClasses):\n",
    "        super(CnnAudioNet,self).__init__()\n",
    "        self.NumClasses = NumClasses\n",
    "        self.Fc_features = 128\n",
    "        self.C1 = nn.Conv2d(1,32,3,padding=1)\n",
    "        self.C2 = nn.Conv2d(32,32,5,padding=1)\n",
    "        self.BN1 = nn.BatchNorm2d(32)  # change size of batch norm?\n",
    "        self.fc1 = nn.Linear(1536,128)\n",
    "        self.fc2 = nn.Linear(128, self.NumClasses)\n",
    "        self.maxpool1 = nn.MaxPool2d(2,2)\n",
    "        self.dropout = nn.Dropout(0.25)\n",
    "        \n",
    "        self.C3 = nn.Conv2d(32,64,5,padding=1)\n",
    "        self.BN2 = nn.BatchNorm2d(64)\n",
    "\n",
    "\n",
    "    def forward(self,x):        \n",
    "        x = F.relu(self.BN1(self.C1(x)))\n",
    "        x = self.maxpool1(F.relu(self.BN1(self.C2(x))))\n",
    "        \n",
    "        x = self.maxpool1(F.relu(self.BN2(self.C3(x))))\n",
    "                \n",
    "        x = (x.view(-1,np.prod(x.shape[1:]))) # self.dropout\n",
    "        # dim to know here for fully connected\n",
    "        # print(x.shape)\n",
    "        x = self.dropout(self.fc1(x))\n",
    "        x = self.fc2(x)\n",
    "        return x\n",
    "\n",
    "labels = sorted(list(set(datapoint[2] for datapoint in train_set)))  \n",
    "\n",
    "model = CnnAudioNet(len(labels))\n",
    "model.to(device)  # convert initialized model to CUDA optimized model\n",
    "optimizer = optim.Adam(params=model.parameters(), lr=0.001)"
   ]
  },
  {
   "cell_type": "code",
   "execution_count": 14,
   "metadata": {
    "tags": []
   },
   "outputs": [
    {
     "name": "stderr",
     "output_type": "stream",
     "text": [
      "  5%|▌         | 1/20 [01:00<19:07, 60.41s/it]"
     ]
    },
    {
     "name": "stdout",
     "output_type": "stream",
     "text": [
      "Train batch loss: -63857635.484375,\n"
     ]
    },
    {
     "name": "stderr",
     "output_type": "stream",
     "text": [
      " 10%|█         | 2/20 [02:04<18:29, 61.66s/it]"
     ]
    },
    {
     "name": "stdout",
     "output_type": "stream",
     "text": [
      "Train batch loss: -150712671.062500,\n"
     ]
    },
    {
     "name": "stderr",
     "output_type": "stream",
     "text": [
      " 15%|█▌        | 3/20 [03:10<17:48, 62.88s/it]"
     ]
    },
    {
     "name": "stdout",
     "output_type": "stream",
     "text": [
      "Train batch loss: -290621097.375000,\n"
     ]
    },
    {
     "name": "stderr",
     "output_type": "stream",
     "text": [
      " 20%|██        | 4/20 [04:17<17:02, 63.94s/it]"
     ]
    },
    {
     "name": "stdout",
     "output_type": "stream",
     "text": [
      "Train batch loss: -493117510.250000,\n"
     ]
    },
    {
     "name": "stderr",
     "output_type": "stream",
     "text": [
      " 25%|██▌       | 5/20 [05:23<16:09, 64.66s/it]"
     ]
    },
    {
     "name": "stdout",
     "output_type": "stream",
     "text": [
      "Train batch loss: -766743612.750000,\n"
     ]
    },
    {
     "name": "stderr",
     "output_type": "stream",
     "text": [
      " 30%|███       | 6/20 [06:30<15:13, 65.28s/it]"
     ]
    },
    {
     "name": "stdout",
     "output_type": "stream",
     "text": [
      "Train batch loss: -1118752786.000000,\n"
     ]
    },
    {
     "name": "stderr",
     "output_type": "stream",
     "text": [
      " 35%|███▌      | 7/20 [07:39<14:23, 66.46s/it]"
     ]
    },
    {
     "name": "stdout",
     "output_type": "stream",
     "text": [
      "Train batch loss: -1554164999.000000,\n"
     ]
    },
    {
     "name": "stderr",
     "output_type": "stream",
     "text": [
      " 40%|████      | 8/20 [08:47<13:24, 67.06s/it]"
     ]
    },
    {
     "name": "stdout",
     "output_type": "stream",
     "text": [
      "Train batch loss: -2080717829.000000,\n"
     ]
    },
    {
     "name": "stderr",
     "output_type": "stream",
     "text": [
      " 45%|████▌     | 9/20 [09:53<12:13, 66.71s/it]"
     ]
    },
    {
     "name": "stdout",
     "output_type": "stream",
     "text": [
      "Train batch loss: -2701382683.000000,\n"
     ]
    },
    {
     "name": "stderr",
     "output_type": "stream",
     "text": [
      " 50%|█████     | 10/20 [10:58<11:02, 66.26s/it]"
     ]
    },
    {
     "name": "stdout",
     "output_type": "stream",
     "text": [
      "Train batch loss: -3419940518.000000,\n"
     ]
    },
    {
     "name": "stderr",
     "output_type": "stream",
     "text": [
      " 55%|█████▌    | 11/20 [12:03<09:52, 65.87s/it]"
     ]
    },
    {
     "name": "stdout",
     "output_type": "stream",
     "text": [
      "Train batch loss: -4242084390.000000,\n"
     ]
    },
    {
     "name": "stderr",
     "output_type": "stream",
     "text": [
      " 60%|██████    | 12/20 [13:09<08:45, 65.68s/it]"
     ]
    },
    {
     "name": "stdout",
     "output_type": "stream",
     "text": [
      "Train batch loss: -5164725858.000000,\n"
     ]
    },
    {
     "name": "stderr",
     "output_type": "stream",
     "text": [
      " 65%|██████▌   | 13/20 [14:14<07:38, 65.53s/it]"
     ]
    },
    {
     "name": "stdout",
     "output_type": "stream",
     "text": [
      "Train batch loss: -6198311416.000000,\n"
     ]
    },
    {
     "name": "stderr",
     "output_type": "stream",
     "text": [
      " 70%|███████   | 14/20 [15:19<06:32, 65.45s/it]"
     ]
    },
    {
     "name": "stdout",
     "output_type": "stream",
     "text": [
      "Train batch loss: -7346080640.000000,\n"
     ]
    },
    {
     "name": "stderr",
     "output_type": "stream",
     "text": [
      " 75%|███████▌  | 15/20 [16:25<05:27, 65.48s/it]"
     ]
    },
    {
     "name": "stdout",
     "output_type": "stream",
     "text": [
      "Train batch loss: -8601240844.000000,\n"
     ]
    },
    {
     "name": "stderr",
     "output_type": "stream",
     "text": [
      " 80%|████████  | 16/20 [17:30<04:21, 65.45s/it]"
     ]
    },
    {
     "name": "stdout",
     "output_type": "stream",
     "text": [
      "Train batch loss: -9973244444.000000,\n"
     ]
    },
    {
     "name": "stderr",
     "output_type": "stream",
     "text": [
      " 85%|████████▌ | 17/20 [18:35<03:16, 65.35s/it]"
     ]
    },
    {
     "name": "stdout",
     "output_type": "stream",
     "text": [
      "Train batch loss: -11463781624.000000,\n"
     ]
    },
    {
     "name": "stderr",
     "output_type": "stream",
     "text": [
      " 90%|█████████ | 18/20 [19:40<02:10, 65.21s/it]"
     ]
    },
    {
     "name": "stdout",
     "output_type": "stream",
     "text": [
      "Train batch loss: -13069943504.000000,\n"
     ]
    },
    {
     "name": "stderr",
     "output_type": "stream",
     "text": [
      " 95%|█████████▌| 19/20 [20:45<01:05, 65.11s/it]"
     ]
    },
    {
     "name": "stdout",
     "output_type": "stream",
     "text": [
      "Train batch loss: -14784490200.000000,\n"
     ]
    },
    {
     "name": "stderr",
     "output_type": "stream",
     "text": [
      "100%|██████████| 20/20 [21:52<00:00, 65.61s/it]"
     ]
    },
    {
     "name": "stdout",
     "output_type": "stream",
     "text": [
      "Train batch loss: -16634659648.000000,\n"
     ]
    },
    {
     "name": "stderr",
     "output_type": "stream",
     "text": [
      "\n"
     ]
    },
    {
     "data": {
      "image/png": "[encoded data removed]",
      "text/plain": [
       "<Figure size 432x288 with 1 Axes>"
      ]
     },
     "metadata": {
      "needs_background": "light"
     },
     "output_type": "display_data"
    }
   ],
   "source": [
    "from preprocessing import Preprocessing  # run first with - F.nll_loss 10 iterations, than +F.nll_loss 20 iterations, it works starts to have results, lr 1e-3\n",
    "\n",
    "\n",
    "\n",
    "processor = Preprocessing(train_set, validation_set, test_set)\n",
    "model.train()\n",
    "\n",
    "train_loss_history, nb_epochs = [], 20\n",
    "valid_loss_history = []\n",
    "for epoch in tqdm(range(nb_epochs)):\n",
    "    \n",
    "    # train and eval train loss\n",
    "    train_loss = 0.0\n",
    "    for batch_idx, (data, target) in enumerate(train_loader):\n",
    "\n",
    "        print(target)\n",
    "        target = target.to(device)\n",
    "        data = (data-data.mean())/data.std()\n",
    "\n",
    "        data = data.to(device, dtype=torch.float)\n",
    "        output = model(data.unsqueeze(1))\n",
    "        _, pred = torch.max(output,1)\n",
    "\n",
    "        # negative log-likelihood for tensor of size (batch x 1 x n_output)\n",
    "        loss = F.nll_loss(output, target)\n",
    "\n",
    "        optimizer.zero_grad()  \n",
    "        loss.backward()  \n",
    "        optimizer.step()\n",
    "\n",
    "        train_loss += loss.item()\n",
    "    print('Train batch loss: {:.6f},'.format(train_loss))\n",
    "    train_loss_history.append(loss)\n",
    "    \n",
    "#     # eval val loss\n",
    "#     with torch.no_grad():\n",
    "#         model.eval()\n",
    "#         valid_loss = 0 \n",
    "#         for data, target in validation_loader:\n",
    "            \n",
    "#             target = target.to(device)\n",
    "#             data = data.to(device, dtype=torch.float)\n",
    "#             output = model(data.unsqueeze(1))\n",
    "#             _,pred = torch.max(output,1)\n",
    "            \n",
    "#             loss = F.nll_loss(output, target)\n",
    "#             valid_loss += loss.item()\n",
    "#     valid_loss_history.append(valid_loss)\n",
    "            \n",
    "            \n",
    "\n",
    "    \n",
    "plt.plot(train_loss_history, \"r--\", label=\"train_loss\")\n",
    "# plt.plot(valid_loss_history, \"g--\", label=\"val_loss\")\n",
    "plt.legend();"
   ]
  },
  {
   "cell_type": "code",
   "execution_count": 15,
   "metadata": {},
   "outputs": [
    {
     "data": {
      "text/plain": [
       "tensor([17, 17,  7, 17, 17, 17,  7, 17, 17, 17, 17, 17,  7, 17,  7, 17,  7,  7,\n",
       "         7, 17,  7, 17,  7,  7, 17, 17, 17,  7, 17,  7,  7, 17, 17, 17, 17, 17,\n",
       "        17, 17,  7,  7, 17,  7,  6, 17, 17,  7, 17, 17, 17, 17, 17, 17, 17, 17,\n",
       "        17, 17, 17, 17, 17, 17, 17, 17,  7, 17, 17, 17,  7, 17, 17, 17,  6,  5,\n",
       "        17, 17, 17, 17, 17, 17, 17, 17,  7, 17, 17,  7, 17, 17, 17, 17, 17,  7,\n",
       "        17, 17, 17, 17, 17, 17, 17, 17,  6,  7,  7, 17,  7,  5,  7, 17, 17, 17,\n",
       "         7, 17, 17, 17, 17, 17,  7, 17, 17,  7, 17,  7, 17, 17, 17, 17,  7,  7,\n",
       "        17, 17, 17, 17, 17, 17, 17, 17, 17, 17, 17,  7,  7, 17,  7,  7, 17,  6,\n",
       "        17,  7, 17, 17,  7,  6, 17, 17, 17, 17,  7, 17, 17, 17, 17,  7, 17, 17,\n",
       "        17, 17,  7, 17, 17, 17, 17,  7, 17, 17, 17,  7, 17, 17, 17,  7, 17, 17,\n",
       "        17,  6,  7, 17,  6, 17, 17, 17, 17, 17,  7, 17, 17, 17, 17,  7, 17, 17,\n",
       "        17, 17,  7, 17, 17, 17, 17, 17, 17, 17,  7, 17, 17,  7, 17, 17, 17, 17,\n",
       "         7,  7,  7,  7, 17, 17, 17, 17, 17, 17, 17, 17, 17,  7,  7])"
      ]
     },
     "execution_count": 15,
     "metadata": {},
     "output_type": "execute_result"
    }
   ],
   "source": [
    "pred"
   ]
  },
  {
   "cell_type": "code",
   "execution_count": 16,
   "metadata": {},
   "outputs": [
    {
     "data": {
      "text/plain": [
       "tensor([16, 10,  0, 11, 17,  2, 17, 17, 10,  6,  1, 16, 16,  7, 15, 15, 10, 17,\n",
       "        13, 16, 17, 11,  0,  6,  3, 17,  1,  2, 12, 11,  1,  6,  2,  7, 15,  0,\n",
       "         9,  4, 14, 11,  5, 17, 15,  0,  8, 10, 16,  1,  2,  5,  0, 12, 17,  4,\n",
       "        13,  0, 10,  9,  2,  5, 18,  8,  7,  5, 11, 16,  1, 12,  6,  6, 17,  1,\n",
       "         0, 11,  5, 14, 17,  0,  6, 15, 15, 11,  3, 17, 13,  3,  9,  0,  5,  7,\n",
       "         5,  4, 16,  5, 16,  1, 18,  0,  4,  5,  6,  1,  1, 16, 18,  0,  9,  7,\n",
       "         6, 11, 10,  2, 14,  2,  0, 10,  3,  2,  2, 14,  6, 10, 13,  3,  8, 17,\n",
       "         8,  8, 17, 14, 18,  7,  9, 12, 14, 11, 17, 17, 10,  7,  7, 11,  6, 18,\n",
       "         5,  5, 14,  4, 15, 12, 16,  4,  1, 12,  4, 17,  4,  2, 11,  0,  2,  7,\n",
       "        12,  6, 17,  9,  5, 10, 17, 11, 14,  7,  2, 11, 17, 15, 11,  6, 10, 14,\n",
       "        12, 12,  5, 11,  1, 17, 13,  1,  1,  6,  1,  4,  7,  8,  7,  2, 15,  2,\n",
       "        14, 16,  4, 14,  7, 12, 15,  4,  8, 18, 11, 16, 16, 13, 17,  6,  5, 12,\n",
       "         5,  5, 10,  2,  0,  7, 15,  8, 11, 14,  1,  7,  7, 12, 11])"
      ]
     },
     "execution_count": 16,
     "metadata": {},
     "output_type": "execute_result"
    }
   ],
   "source": [
    "target"
   ]
  },
  {
   "cell_type": "code",
   "execution_count": 17,
   "metadata": {
    "jupyter": {
     "source_hidden": true
    },
    "tags": []
   },
   "outputs": [
    {
     "name": "stderr",
     "output_type": "stream",
     "text": [
      "  0%|          | 0/20 [00:00<?, ?it/s]"
     ]
    },
    {
     "name": "stdout",
     "output_type": "stream",
     "text": [
      "tensor([10, 17, 15, 13,  4,  9, 14, 17,  7,  6,  0, 15, 15, 10, 17,  7,  7,  7,\n",
      "         7,  5, 11,  4, 10,  5, 15,  9, 11, 17,  4,  8, 11, 12,  6,  9,  6, 13,\n",
      "         7, 16,  5, 17, 11, 14,  3, 15,  4, 16, 12, 13,  3,  3,  5, 17, 13,  7,\n",
      "         5, 13,  2,  5,  7, 12,  1, 15, 10, 10, 15,  5,  3,  9,  6,  2, 11,  3,\n",
      "         4, 10,  5,  8, 11,  6, 11, 15, 13,  4, 11,  9,  6,  9, 11,  9,  2, 15,\n",
      "        14,  8, 11,  0,  9,  5,  6,  4, 16,  7, 14, 10,  8,  6, 16,  3, 16,  5,\n",
      "        18, 12, 16, 17, 17, 16,  8,  3,  7, 17, 16,  1,  9,  7, 15, 16, 14, 16,\n",
      "         6,  3,  5, 18,  1, 13,  4,  5, 10,  7, 17,  1,  8, 14,  6,  5,  2, 15,\n",
      "        18,  1,  7,  6, 15,  7,  5,  3, 15,  1,  3, 13, 10,  5, 15,  6,  4, 13,\n",
      "         1, 12, 14,  5, 10, 18,  5, 16, 16,  9,  3, 15,  4,  3, 10,  6, 15, 18,\n",
      "         7, 10,  0, 15,  4, 17,  9, 13, 16,  6, 13, 17, 15,  5, 15, 12, 15,  7,\n",
      "         4,  6, 16, 16,  9, 11,  8, 11, 10, 12, 10, 15, 11,  7, 10, 11,  9, 17,\n",
      "        16, 15,  5, 12, 16,  9,  5,  1,  8, 10,  2, 10,  3,  7,  5,  1, 16,  7,\n",
      "         5,  2, 11, 18,  5,  7,  7, 13,  5,  2,  3, 15, 17,  5,  5, 12, 14, 13,\n",
      "         7, 11, 11, 14])\n",
      "tensor([17, 18, 11,  5,  7, 15,  7,  6, 15, 18,  1, 14, 17, 17,  6, 10, 16,  6,\n",
      "        10, 16,  8,  1, 15, 10, 11,  6,  2,  6, 10,  5, 16,  6, 17, 17, 10,  7,\n",
      "         1, 10, 10, 15,  7, 13, 16, 17, 11,  7,  9, 17, 16, 10,  5, 17,  4,  1,\n",
      "         4,  5,  7,  8, 10, 11,  9, 11, 16, 10, 16, 13, 13,  0, 17,  2,  2, 10,\n",
      "        13, 17, 11,  5, 18, 11, 17,  6,  1,  7, 15,  8,  6,  7,  6,  2, 11,  2,\n",
      "         6,  7,  1,  9,  0,  4,  3, 17,  9,  1, 15,  6,  6, 13, 13, 15, 14,  0,\n",
      "         6, 16, 15,  2,  9, 12, 17, 13,  1,  6, 11, 10, 13, 11,  4, 17,  1,  8,\n",
      "         1,  8,  0, 10, 16, 15, 10, 17,  7, 14,  5, 18,  3,  4, 15,  8,  0,  5,\n",
      "        11, 12,  2,  1, 10,  7, 11, 11, 18, 17,  6,  1,  0, 14, 11, 15,  8, 10,\n",
      "        10, 15,  7,  6,  6, 13, 11, 15, 12,  6,  6, 12,  1,  9,  6, 16, 11, 13,\n",
      "        10,  7, 16, 15,  6,  7,  5,  5, 13,  3, 12,  6,  1, 14,  6, 18,  2, 12,\n",
      "        11, 11,  6,  0, 15, 14,  6,  2, 13,  1,  0, 17, 12,  7,  0, 11,  5,  1,\n",
      "         4,  1, 17,  5, 15, 10,  3, 11,  2, 16,  1,  7, 11, 16, 11, 17,  4,  9,\n",
      "         2,  5,  5,  4, 10,  5,  4, 10, 17,  8,  7, 15, 18, 16,  6, 13, 16,  6,\n",
      "        12,  7, 11, 11])\n",
      "tensor([ 5,  0,  8, 17,  6,  1,  8,  6,  4,  0,  7, 14,  6,  8,  1,  0, 11, 14,\n",
      "         3, 11,  6,  9, 11,  2,  5, 12,  4, 16,  7, 11, 11,  4,  7,  5, 10,  3,\n",
      "         5, 14,  2, 13,  5,  0, 18,  3,  3,  0,  1,  9, 15,  5, 18, 10,  9, 11,\n",
      "         3,  9, 15, 12, 17, 15,  5,  7, 12, 16, 17,  1, 10,  4,  7,  4,  3,  0,\n",
      "         2, 11, 17, 11,  5, 11,  0, 15, 15, 16,  6, 15,  4, 15, 18, 17, 10,  2,\n",
      "         5,  7,  1, 11, 10,  2,  8, 13, 17,  8,  7, 17, 15,  0, 14, 15,  3, 14,\n",
      "        17, 11,  7, 14, 15,  2, 11,  6,  6, 10, 12,  9, 15, 18, 10,  9, 10,  6,\n",
      "         7,  8,  5, 10,  3,  9,  8, 17, 12, 18, 12,  6, 12, 13,  8, 12,  5,  8,\n",
      "         2,  7, 17, 10, 15,  7,  6,  9, 10,  6, 18,  1, 17,  4, 18,  7, 15, 12,\n",
      "        17,  5,  7,  3,  1, 10, 15, 14,  9, 16, 18,  1, 10,  7,  3,  7, 17, 17,\n",
      "         8, 12, 15, 15,  1,  4,  6, 17,  2, 11,  1,  7, 13,  1, 10,  1, 14, 18,\n",
      "         0, 10, 14,  2, 17,  4, 17,  0,  9,  0, 16, 18, 14, 17,  5, 15, 10, 10,\n",
      "        16, 13, 11, 12, 10,  4,  7, 10, 10,  7,  1,  3,  7,  0,  5,  0, 17,  5,\n",
      "         2, 16, 11, 18, 17,  4, 16, 16,  5,  3,  6,  4,  4, 11, 11,  5, 11, 17,\n",
      "         0,  3,  6, 16])\n",
      "tensor([10,  2,  0, 17, 10, 17, 14, 14,  1,  1,  1,  5,  6, 18,  9, 11,  0,  4,\n",
      "         7,  5, 15, 15,  8,  9, 18, 11, 11, 13, 17, 11,  0, 10,  0, 11,  2,  1,\n",
      "         8, 14, 12, 10,  9, 18,  3, 11,  0, 11, 17,  4, 17, 10,  5, 16, 11, 17,\n",
      "         6, 15,  2,  5, 15,  6,  7, 17,  7,  8,  4, 11, 11, 17,  5,  5,  5,  1,\n",
      "         4, 18, 15, 17, 18, 10, 14,  5, 10, 13, 15,  6, 10,  8,  5,  2,  6,  6,\n",
      "         7, 17,  1, 10, 12, 11,  7,  5, 15,  9,  5, 17,  5,  8,  4, 11, 17, 12,\n",
      "        17, 17,  4, 18,  7,  9, 13, 17, 17, 13,  0, 11, 13, 10,  5,  5, 13,  5,\n",
      "         7, 13,  3, 10,  4,  2, 18,  6, 15, 11, 12, 17, 14, 10,  5, 15,  7,  2,\n",
      "         1,  7, 10, 15,  9, 11, 11,  5,  2, 15,  0, 14, 16,  6,  4,  3, 11,  0,\n",
      "        11, 17,  4,  4,  2, 11,  7, 10, 10, 11, 15, 10,  7,  2,  8, 12, 17, 12,\n",
      "         1, 16, 18, 15,  8, 11, 11,  6, 17, 17,  3, 15, 11,  2,  7,  5,  7, 11,\n",
      "        13,  9, 17,  2, 15,  0,  2, 16,  3,  4, 10, 16, 13, 17, 11,  6, 17, 17,\n",
      "         7, 10,  5, 18, 10,  2, 11, 16, 17, 12, 12,  9,  7,  3, 10,  8,  9, 15,\n",
      "        17, 11, 17, 17, 10, 13, 11, 15,  7,  8, 17, 12, 17, 17,  3,  7, 16,  6,\n",
      "         5, 15, 13, 15])\n",
      "tensor([12, 15,  4,  3, 14, 10, 16, 17,  8,  5, 14,  6,  2,  7, 17,  0, 10,  6,\n",
      "        11, 15, 17, 12,  7, 15, 11,  4, 17, 13, 10,  8,  7, 17,  5,  1,  4,  6,\n",
      "        14, 16, 16, 17, 17, 14,  1,  0,  0,  2,  0, 13,  1, 15, 14,  2, 18, 11,\n",
      "        10,  4,  8, 10, 17, 12,  8, 14, 14, 11,  5, 12, 12, 15, 17, 17, 12,  3,\n",
      "        12,  5,  7,  7,  5,  5, 15,  3, 15,  6, 14, 16,  1, 18, 11,  5,  1, 13,\n",
      "        18, 17,  7,  8,  7, 14,  7,  1, 15, 17,  5, 11, 16,  7,  7,  2, 16,  0,\n",
      "        17,  1,  2, 12, 14,  6,  2, 14, 17,  9,  2, 14, 10, 18,  8, 17,  2,  9,\n",
      "        16, 13,  4, 11, 10,  7,  8, 12, 11,  5, 17,  5, 15,  0, 12, 11, 13, 12,\n",
      "        13,  5,  2,  1, 15,  0, 10, 12,  4, 14,  7,  4,  4, 13, 11, 13, 10,  6,\n",
      "        12, 15, 17, 16,  9,  4,  2,  6, 18, 11,  5, 15, 11,  6,  7,  4,  5,  8,\n",
      "        12,  8, 11, 16,  4, 10, 14, 15,  0,  5,  3,  5, 11,  5, 10, 17,  6, 17,\n",
      "         5, 11, 18,  5, 14, 17,  6, 18,  4, 14, 16, 15, 17,  9,  4,  4, 17,  6,\n",
      "        14, 15, 16,  2,  9, 17,  9, 10,  7,  7, 10, 11, 11,  7, 13, 18, 15, 18,\n",
      "        11, 11, 11, 11,  5,  3,  5, 17,  7, 11,  6, 16,  9,  5, 17,  5,  4,  4,\n",
      "         1, 14, 16,  1])\n",
      "tensor([17,  1,  2, 15, 16,  6,  7, 17,  8, 11, 10,  9,  7,  7, 10,  5, 15,  5,\n",
      "         6,  6,  5,  8, 13, 13, 14, 10, 18,  6, 10,  7, 16,  5, 11, 17, 10,  1,\n",
      "        15,  4,  4,  1, 10, 10,  1, 18, 11,  5,  2,  3,  7, 16, 11, 13,  3,  7,\n",
      "         4, 16,  2,  6,  5,  3, 16, 11, 12,  9,  3, 17, 18,  7, 15,  1,  3, 15,\n",
      "         2,  6,  2,  6,  8,  0, 15,  8, 15,  7, 12, 11, 11, 11, 12,  7,  3, 18,\n",
      "        10, 11,  6,  0,  7, 17,  7,  9, 10, 12,  5, 13, 10,  0, 18,  7,  7, 17,\n",
      "        12, 17, 11, 10,  2, 12,  3, 14, 15,  7, 15, 13,  5, 15,  7, 15, 17, 15,\n",
      "         7,  6, 11,  2,  7, 11,  9,  6,  2,  2,  5, 18,  6, 14, 17,  7,  5,  3,\n",
      "         5, 18,  6,  9,  5,  5,  0, 13,  7, 15,  6,  1,  4,  5,  6,  6, 17,  2,\n",
      "         2,  4,  4,  5,  3,  9,  7,  5,  3, 11, 15, 15, 17, 10, 16, 17,  7,  0,\n",
      "        17,  9,  6, 17, 10, 18,  9, 18,  7,  3, 10,  3,  5,  2, 12,  7,  7,  3,\n",
      "        10, 10,  9,  7, 18, 15, 11,  4, 15, 11,  3, 16, 13, 10,  2,  7,  0,  6,\n",
      "        18,  8, 11,  0,  3,  6, 15,  0, 13, 17, 18,  6, 15, 15, 11, 17, 14, 16,\n",
      "         0,  5,  2, 11,  2,  7, 11,  2,  3,  5, 10,  1,  1,  0,  7, 17,  8,  5,\n",
      "        12, 17,  3, 10])\n",
      "tensor([ 6, 17,  4, 10, 14, 16, 17, 12, 17, 15, 10,  6,  8,  7,  8,  5,  6,  4,\n",
      "         2,  8,  1,  7,  5, 16,  4,  2, 10,  5, 10,  1,  7,  6, 16,  9,  4, 17,\n",
      "        16,  6,  6, 10,  9,  9, 12,  0, 10, 11,  5,  6,  0, 10, 15,  5,  5, 12,\n",
      "         4, 14,  6,  5,  6, 13, 17,  5, 15,  7,  1,  4,  4,  4,  4, 10, 16,  6,\n",
      "        18, 15,  7,  3, 11, 12, 11, 13, 17,  8,  6,  9,  7,  3,  3, 13,  5, 17,\n",
      "         9, 13, 10,  0,  0,  6, 13,  8,  2,  6,  1,  7, 11,  6,  6,  5, 15, 17,\n",
      "        16, 11,  2, 11,  7,  7, 18, 10, 16, 11,  2, 16, 11, 10,  6,  4,  7,  4,\n",
      "         4, 11, 12, 16, 15, 16, 15,  7, 10,  3, 10,  2, 13,  1, 13, 14, 11, 17,\n",
      "         3, 11, 11, 15, 11,  5, 15,  2, 15,  7,  7, 16,  8, 11,  5, 18, 17,  6,\n",
      "         6, 11,  1,  5, 18,  0,  5, 14,  6,  6, 13,  2, 14, 17,  5,  3,  7,  2,\n",
      "        17,  9, 10, 15,  6, 18,  2, 12,  3,  6, 16,  1, 16,  5, 17, 11,  6,  2,\n",
      "         0, 10,  5, 17, 15,  4, 17,  5, 17,  7, 13, 11, 11,  5,  6,  2,  5,  0,\n",
      "         1,  5, 11,  7, 17,  5, 13,  4,  1,  7, 13,  1,  8,  4,  5,  1, 10, 14,\n",
      "        10,  5, 17, 12, 16, 11,  3, 15, 15,  4,  7,  2,  8,  7, 18, 13, 17, 15,\n",
      "        15,  3,  7,  5])\n",
      "tensor([11, 14, 12, 10,  8,  4, 10, 15,  5, 16,  1, 12,  7,  7, 14,  5,  8,  4,\n",
      "        15, 13, 17, 17,  6,  4,  5, 14, 15, 11,  5,  0, 15,  3,  7, 11,  6, 12,\n",
      "        13, 18,  9, 14, 17,  2,  1,  6,  7, 15,  8, 16,  7,  7,  9, 18, 14,  8,\n",
      "        10,  5, 12, 11,  2,  8,  5,  4, 17, 10, 18,  7,  9, 18, 17,  0,  2, 16,\n",
      "        14,  5,  6, 17,  6,  3,  3,  6, 10, 18,  4,  5,  1,  6, 17, 17, 13,  4,\n",
      "        12, 18, 16,  8, 15, 13, 11,  7, 13, 17,  4,  6,  2,  4,  0,  3,  1,  7,\n",
      "         7, 13,  5, 13, 10, 12,  6, 13, 15, 16,  0, 15, 10,  4, 18,  5,  7,  6,\n",
      "         6, 17, 10, 16, 13, 15,  8,  1, 11,  0,  2,  6,  7,  0,  6,  3,  8, 13,\n",
      "         4,  3,  5, 18, 17, 13,  8,  3, 18, 15, 14, 17,  6,  8,  1,  6, 15, 15,\n",
      "         1,  4,  5, 13,  2,  3, 18,  5, 18, 11, 15,  4, 17, 10,  6,  5,  2, 10,\n",
      "        11, 11, 13, 15, 17, 17, 10, 12, 15, 11,  6,  9, 10, 14,  6,  2, 14,  7,\n",
      "        13,  9, 11,  4,  2, 17, 11,  4,  6, 14,  6, 15, 18,  5, 15, 10, 12,  9,\n",
      "        11, 12,  0,  6,  7, 17, 13, 10,  4,  3, 16, 11,  4, 14, 10,  5,  5, 15,\n",
      "        18, 12, 16,  1, 12,  0, 15,  6, 14, 17, 17, 15, 12, 13,  2,  6, 11, 12,\n",
      "        11, 15, 16,  9])\n",
      "tensor([14,  5,  5, 11, 17,  7, 14,  3,  7,  1, 15,  5,  7,  4, 12,  9, 11, 16,\n",
      "         2,  1, 12,  1,  6, 16,  4, 10,  6,  1, 17, 17,  6, 16,  0,  6,  5, 15,\n",
      "        17,  7,  6, 10,  2, 17, 10,  6, 17,  2,  5,  3, 15, 15,  1,  8,  7, 15,\n",
      "        17, 15,  5,  0, 10, 17,  0,  5, 14, 10,  9, 12,  8, 14,  1, 10, 17,  1,\n",
      "         7,  4,  6,  4,  6,  6, 16,  3, 15,  4,  7, 10, 17,  7,  8, 15,  1, 13,\n",
      "        10, 17, 10, 17, 16,  8, 15, 11,  2, 16, 10,  7,  4, 11, 13, 17, 12, 16,\n",
      "        11, 11, 17,  7, 11,  6,  2, 11,  7,  1,  3,  2,  6,  3, 16, 14,  8, 10,\n",
      "         6,  4, 12,  0,  9,  5, 17,  3,  6, 15,  2,  1, 13,  3, 10, 11, 10, 10,\n",
      "         6,  7, 12,  7, 10,  2, 10, 15,  4, 15, 11,  8,  1,  7, 17, 11,  1,  6,\n",
      "        17, 18, 13,  6, 16, 11,  5, 17, 15, 10, 11,  6,  8,  8, 15, 15,  4,  4,\n",
      "         2,  2, 10,  3,  0,  0,  5, 16, 13,  1,  4,  4,  2,  6, 14, 18, 15,  7,\n",
      "         2, 10, 10,  8,  3, 18,  2, 13, 10, 10, 16, 13, 17, 11,  4, 17, 11, 10,\n",
      "         9, 13, 13, 11,  0, 10,  3,  9,  7,  0, 12,  4, 14, 10, 16,  6, 10,  5,\n",
      "         9, 11,  7,  7, 11,  9, 15,  0, 15, 15,  1, 13, 17, 15,  1,  8, 10, 15,\n",
      "        15, 11,  0,  2])\n",
      "tensor([ 7,  9, 10,  8, 13, 15, 13, 10, 11, 12,  3, 10, 13, 15, 11, 16,  0, 17,\n",
      "         9, 16, 10, 10, 11, 13, 10,  2,  6,  4, 17, 13,  8, 18,  5, 11, 18,  7,\n",
      "        15,  6, 11,  6,  3,  9, 13, 13,  1, 15,  2, 11,  5, 14, 17,  6,  8, 15,\n",
      "         6, 11,  0,  3,  2, 18,  5, 13, 11, 11,  5,  0,  2, 11, 16,  3,  0,  0,\n",
      "         9, 10, 10, 18,  4, 10,  6,  4, 15,  3, 11,  3, 18, 11,  6, 10,  4,  6,\n",
      "        16,  7,  5,  0,  6,  8, 13,  7, 17, 17,  3,  7, 17, 13,  7, 15,  1,  7,\n",
      "         8,  9, 11, 12, 13, 11, 10, 17,  5, 12, 18,  7, 17, 17, 15,  7, 15, 11,\n",
      "        17, 10, 11, 14, 15,  7,  6, 14, 17, 17, 17, 13,  7,  2,  7,  9,  7,  1,\n",
      "        11, 11, 18, 17, 12, 13,  5,  3,  6, 12, 17,  0, 10,  0, 11, 10, 11,  7,\n",
      "         9,  0, 18, 10,  9, 10,  0, 16,  3,  6,  8, 11,  5, 17,  3,  1, 11,  0,\n",
      "        15,  1, 12,  8,  2, 11,  1,  5, 17,  6,  3, 11,  3, 11,  1,  8,  9, 18,\n",
      "        14, 11, 13, 14, 11, 16,  3, 17, 10,  1,  9, 10,  5, 18,  4,  4,  4, 10,\n",
      "         9, 13, 18, 18,  7, 10, 15, 10,  6, 13,  1,  5,  7,  3, 10,  4,  7, 14,\n",
      "         7,  2,  2, 12, 17,  7, 11,  6, 16, 15,  5,  2,  4, 18,  9,  0, 12,  6,\n",
      "         4, 18,  2, 16])\n",
      "tensor([10,  1, 17, 10, 17,  7, 17, 17, 12,  2, 10, 11, 12,  3,  6, 18,  7, 18,\n",
      "        12, 17,  1,  8,  7, 12, 15,  6,  9, 13, 18,  0, 16, 12, 17,  9, 10,  7,\n",
      "         0,  5,  3, 17,  4,  6,  6, 10,  1, 15, 14,  1,  4, 10,  5, 10,  7,  9,\n",
      "        11,  7, 11, 17, 10, 10,  4,  4, 11,  6,  7, 15, 17,  7, 13, 16,  1,  2,\n",
      "         6, 17,  6, 15, 11, 17, 15, 18,  6,  9, 13,  0, 17, 10,  2,  6, 15, 10,\n",
      "         3,  3, 11, 15,  2, 15,  8, 13,  1, 15, 17,  1, 17, 13, 18,  3,  3, 16,\n",
      "        13,  5,  5,  5,  0,  4, 17, 13, 12,  1,  7, 16, 15,  6,  6, 11,  7, 11,\n",
      "        15, 17, 15, 17,  2, 16, 12,  1, 16, 12, 17,  7,  1, 14, 11,  6, 11, 14,\n",
      "         0,  6, 18, 17, 12,  5, 15, 17, 11, 11, 18,  1, 10,  5,  6,  6,  3, 18,\n",
      "        17,  3, 11, 15,  9,  6,  4, 17, 15, 18, 18, 17,  2,  7, 10,  8, 17,  2,\n",
      "         6,  1, 17,  5, 13,  6,  7,  7, 16,  9,  5, 14, 17, 10, 17,  5, 11, 16,\n",
      "        17, 15, 12,  3,  6,  6, 12, 13, 15,  3,  7,  8, 14,  6,  8,  4, 12,  0,\n",
      "        10,  8, 11,  3, 11, 11,  9,  5, 17,  3, 16, 10,  5, 10, 11,  5, 12,  5,\n",
      "        14, 17, 11, 15,  6, 10, 10, 14, 18,  6, 13,  6, 10, 16,  2, 17, 13,  9,\n",
      "         7,  7,  7, 17])\n",
      "tensor([ 7, 14, 16,  8, 10, 15, 11, 15,  5, 14,  3,  1,  2, 17, 18, 10, 15, 13,\n",
      "        11,  6,  5,  8, 15,  7,  7, 16, 10, 12, 16,  5, 10, 11,  5, 10, 10, 11,\n",
      "        15, 11, 16,  7,  7, 14, 10,  6,  6, 16, 12,  5,  7,  4, 13,  6, 10, 10,\n",
      "        17, 14,  7,  5, 17,  3,  3, 10, 12, 14, 15, 16, 14, 12, 11,  6,  6, 10,\n",
      "        15,  6,  2, 17,  7, 15,  4, 15,  0, 15, 18,  9,  6,  2,  6,  7, 15,  7,\n",
      "         8,  1,  0, 18, 15, 14, 14,  7, 10,  7,  7, 17,  5,  9,  3, 14, 13, 15,\n",
      "        13,  4, 15, 13, 13, 11, 17, 18, 11,  4,  5,  1, 10,  7,  5, 17,  0, 10,\n",
      "         6,  5,  1, 13,  7, 16, 18, 18, 11,  5, 10,  7,  2,  8, 15,  9,  6, 11,\n",
      "        10, 15,  7, 13,  6, 15,  6, 13, 13,  8, 15, 10, 16,  8, 13, 11, 10, 17,\n",
      "         8,  1, 11,  0, 16,  4, 15, 14, 17, 17,  1, 13,  7,  6,  1, 18, 14, 17,\n",
      "        10,  5, 14, 10, 13,  5, 10,  9,  1,  6, 15, 11, 17, 17,  7,  9,  8,  0,\n",
      "        12,  6,  1, 13, 13,  9,  8,  4, 17, 10,  5, 10, 18, 18, 12, 17, 13, 17,\n",
      "        13, 15, 15, 10,  2,  5,  5, 17, 16,  6, 15,  8, 17, 18, 16,  7,  5,  0,\n",
      "         4, 10,  4, 12, 11, 16,  6,  1, 12,  7,  7, 15, 11, 15,  1,  5, 18,  6,\n",
      "         6,  6, 14, 15])\n",
      "tensor([15, 17, 13, 18,  6, 18, 16,  7,  3, 17,  1,  2, 18,  4,  5, 10, 12,  5,\n",
      "         3, 11, 10, 15, 17, 15,  6, 11,  5,  2, 11,  3,  1,  6,  5,  5,  3, 11,\n",
      "         2, 12,  8,  6, 13, 17, 13,  4,  4,  5,  2,  5, 11,  4,  7, 13, 11,  6,\n",
      "         5, 14, 11,  5,  4,  5,  5, 14, 10,  9, 11,  6, 18, 18, 10,  6, 14,  7,\n",
      "         6,  5,  1,  7,  7,  0, 10, 15,  8,  4,  4,  2, 16, 15,  6, 15, 15, 10,\n",
      "         0, 17,  3,  5,  5,  9,  3,  0,  5, 16,  8,  8,  7,  3,  7, 17,  5,  3,\n",
      "        10,  5,  0, 13,  8,  7,  4,  4,  9, 10, 14,  2, 18,  0, 11, 13,  6, 11,\n",
      "        17,  9,  8, 10, 11, 13, 14, 16, 10, 10, 15, 15, 10, 12,  7,  7, 12, 17,\n",
      "         6, 18,  5, 16,  0,  7, 11,  3,  7,  5, 11,  9,  4, 12,  0, 13, 11,  4,\n",
      "         2,  6,  5, 15,  7, 17,  5, 18, 15,  9,  7,  5, 17, 18,  5,  5,  1, 15,\n",
      "        10,  4, 10, 11,  2,  1,  0,  2,  4,  9, 17,  4,  2, 13,  4,  6, 10,  5,\n",
      "         3,  6, 16, 11,  6,  9, 15,  4, 18,  7,  2,  3, 10, 12,  7,  5,  0,  7,\n",
      "        10,  5,  5,  5, 17, 17,  3, 17, 15, 11,  5,  6,  5, 18, 12, 17,  7, 17,\n",
      "        18, 10,  0, 12, 18, 18,  5,  6, 15,  2, 15,  4,  3, 12,  5, 16, 10,  0,\n",
      "         9, 16,  1, 15])\n",
      "tensor([ 0,  9,  6, 13, 11, 17, 16,  2,  6, 11,  7, 16,  4,  1,  2,  5, 15, 17,\n",
      "         0,  7,  4, 15, 15, 13, 15,  5, 10,  6,  2,  7, 16, 17, 10, 17, 13, 11,\n",
      "        17, 17, 18, 11, 12,  3, 15, 13,  7,  5, 14,  2,  5, 11,  0, 16,  5,  9,\n",
      "         6, 17,  9,  0,  8,  5, 16, 12, 12,  6,  5,  6, 12, 12,  6, 10, 13, 12,\n",
      "         5, 17,  9, 11, 10,  4, 10, 10, 14, 18, 11, 14,  3,  6,  5, 15,  6,  2,\n",
      "        17,  6, 13, 15,  7,  0, 11, 15, 17,  5, 10,  6, 11,  2, 11, 15, 11,  7,\n",
      "        13, 11, 10,  1, 15, 16,  6, 17, 18,  7,  3,  1,  8,  1, 15, 15, 15, 16,\n",
      "        16,  5, 14, 13,  0, 14, 11, 10, 18,  3,  1,  7,  5,  4,  2,  0, 12,  4,\n",
      "        11, 11,  8, 11,  4, 16,  5,  6, 18,  5,  7,  0, 10, 16, 11,  1,  6,  1,\n",
      "        18,  8,  0,  7, 10, 11, 12,  2, 15, 12,  4,  8, 16, 16,  3, 10, 18,  7,\n",
      "        10, 11,  5,  5,  7,  1,  7, 14, 16, 15,  5, 12, 15,  7, 17, 16,  7,  5,\n",
      "         7, 13, 11,  3,  3,  9,  9,  6,  1,  2, 10,  0,  1, 18,  1,  7, 17, 15,\n",
      "         9, 17,  4, 10,  3, 17, 10,  6,  6, 14, 12, 10, 15,  6,  6, 16, 10,  5,\n",
      "         4, 17, 11,  1, 11, 13, 15, 17,  5,  8, 17, 10,  3,  6, 13, 10, 17, 14,\n",
      "        13, 13,  2,  8])\n",
      "tensor([11, 12, 18, 15, 10, 14,  5,  8, 16,  9,  1,  5,  3, 10,  3,  2,  7,  7,\n",
      "         7, 10, 15, 15, 12, 10, 16, 17,  9,  5, 13,  5,  5, 17, 15, 11, 11, 10,\n",
      "        11,  9,  5,  8, 14,  2, 15, 12, 14,  7,  1,  2, 12,  2,  9, 15, 12,  7,\n",
      "        14, 10, 18, 18,  2,  2,  7, 17,  3,  5, 17,  6,  7,  6,  4,  6, 17, 16,\n",
      "        10,  8,  6,  7, 10, 13, 12, 11, 15,  6,  6,  3, 11, 17, 16,  1,  1, 11,\n",
      "        16,  3, 11,  0,  0,  5, 18,  6,  3, 10, 17,  6, 10, 11, 18,  8, 10, 15,\n",
      "        15,  7,  3,  6,  7, 18,  0, 10,  7, 11,  2,  7,  7,  0, 15, 11,  7, 15,\n",
      "         7, 10, 13, 17, 11,  2,  7,  7,  3,  4, 16,  7,  4, 15, 15, 12,  1,  5,\n",
      "        10, 16,  4, 13, 11,  6,  3, 17, 14,  0,  1, 13, 10, 17,  3, 17, 10,  6,\n",
      "         3, 11, 11, 17,  7,  2,  0, 11,  0, 16, 18,  0, 17, 13, 10, 13,  4,  8,\n",
      "        13,  2,  6, 15, 14, 16, 15,  7,  9,  8,  9, 11, 18, 15,  7,  4, 18,  5,\n",
      "        16, 11,  5,  5, 15, 10,  4, 15, 18,  6, 16,  5,  7, 10, 15, 18,  1, 17,\n",
      "         2, 11, 16,  2,  8,  9,  5,  5, 13,  8, 15, 18,  2, 11,  6,  9,  9,  4,\n",
      "        13,  5,  5, 11,  4,  4,  6,  1,  1,  5, 16,  9, 11,  8, 11, 11,  3,  6,\n",
      "         4,  5,  6, 12])\n",
      "tensor([ 8,  2,  7, 13, 13,  1,  6,  7, 11,  3,  8,  6,  7, 18, 16,  6, 17,  0,\n",
      "        14,  1,  7,  1,  6,  2, 10, 14, 17, 15, 18, 11, 15,  1,  8,  8, 10,  3,\n",
      "        15, 15, 16, 11,  7,  2,  1, 18, 12,  2, 15, 15,  2, 11, 17, 11, 10,  1,\n",
      "         5, 10, 17,  2,  8,  8,  5,  6,  8, 14, 17, 15,  3, 11,  4,  1, 12, 15,\n",
      "        14, 10,  1,  2, 10,  5,  7,  9,  6,  9, 17,  7,  1,  4, 10,  8, 10, 16,\n",
      "        15,  7,  4, 16,  5, 14, 17, 12, 17, 11, 10, 11, 15,  8, 17, 12,  8,  5,\n",
      "         5,  6, 11,  5, 17, 17,  7, 15,  7, 17,  7, 11,  7,  7, 10, 13, 14, 17,\n",
      "         7,  6, 10,  6,  7, 13,  1,  8, 15,  4, 16, 13, 18,  2,  6,  5,  5,  3,\n",
      "         1, 17,  3, 17,  7,  1,  5,  5, 15,  3, 15,  9, 15, 11,  6,  5, 16, 10,\n",
      "         4,  6, 17,  8,  7, 15, 13, 11,  4, 17, 18, 11, 14, 10,  1, 16, 15,  7,\n",
      "         3,  5,  3,  7, 16, 17,  9,  6,  0, 15, 13, 12,  5,  2, 10, 13,  6,  3,\n",
      "        18, 17, 13,  5, 15,  2,  9,  0,  8, 11, 16,  6, 15,  9,  6, 15,  7,  5,\n",
      "         8,  5,  5,  9,  7, 13,  2, 18,  3,  7, 10, 15, 15, 15, 10,  4,  3, 18,\n",
      "         9,  9,  4, 13, 15, 17, 12,  7, 10,  7,  9,  1, 16, 11, 10, 15,  8, 12,\n",
      "        17, 10, 11,  6])\n",
      "tensor([11,  6, 15, 16, 11, 18,  8, 15, 13,  5,  3, 12, 13, 14, 13,  7, 11, 11,\n",
      "         4,  7,  9,  4, 16,  3,  6,  6,  7, 13,  5,  5, 10,  5, 15,  3, 15,  9,\n",
      "        11,  6,  7,  5, 10, 13,  1,  5,  9,  7, 16,  9,  7, 17, 10, 14,  6,  5,\n",
      "         6,  5,  0,  5,  3, 16,  2, 14,  5,  2, 10,  4, 12, 11, 12, 11, 11, 11,\n",
      "        10, 16, 15,  1,  7, 13,  5, 11,  7,  3,  7,  4,  7,  9, 17,  3,  3, 12,\n",
      "        10,  7, 12,  6,  2,  1,  6, 15,  2,  8,  9,  4,  2, 11,  0,  3, 14,  6,\n",
      "         4,  6, 17,  5, 12,  3,  0, 10,  1, 14, 17,  6,  2,  5,  5, 14,  5, 10,\n",
      "        14, 16,  4, 10, 17,  0, 11,  7,  0,  7, 12, 14,  6,  5, 11, 18, 16,  7,\n",
      "         0,  2, 13, 13,  5,  5,  8,  1, 18, 12, 14, 14,  3,  3, 13, 18, 17,  3,\n",
      "        14, 14, 16, 11,  1,  5, 14,  2,  5, 17,  2, 11, 16, 13,  6,  8, 11, 10,\n",
      "         0,  4, 10, 11, 11, 15,  0, 10,  1,  5, 13, 18,  4, 14,  7,  6,  5,  1,\n",
      "        18, 18, 14,  5,  7, 15,  5,  3,  5, 18, 17, 11,  8, 14,  6,  8, 14, 14,\n",
      "         7,  1,  8,  8, 18, 14,  1, 17,  6, 11, 18, 15,  6,  3,  6,  7,  4,  0,\n",
      "         6, 11, 15, 11,  5, 17, 15,  5, 15,  7, 14,  7, 12, 15, 11, 16, 13,  4,\n",
      "         4, 13, 13,  0])\n",
      "tensor([12, 16, 16, 15, 11, 18, 11, 17, 13, 15,  1, 18, 15,  7,  5, 15, 12, 14,\n",
      "        14,  5, 13, 14, 13, 15,  1,  5, 11, 17, 15,  8,  5, 12, 14, 15, 17,  8,\n",
      "        16, 15,  6,  3, 12, 11,  4,  2, 17,  3, 15, 13, 10, 10, 15, 15, 11, 13,\n",
      "         9, 17, 11,  9,  7, 14, 14, 10,  1, 17, 17, 17, 16, 11,  4, 17, 17,  7,\n",
      "        17, 16, 11,  6,  0,  1, 11, 13,  4, 17, 12,  0,  7, 16, 12,  4, 17, 10,\n",
      "         5, 15,  5,  6, 16, 13,  7,  3, 15, 15, 10, 17, 16,  3, 10, 10, 13,  7,\n",
      "        11,  4, 10, 17, 10,  6, 11, 13, 15,  4, 10, 16,  7, 12, 11,  4, 12,  3,\n",
      "         6,  7, 17, 17, 10, 10,  5, 10,  7, 13,  7, 17, 12, 15,  8,  6,  9, 15,\n",
      "        11,  2,  6,  5,  6, 15, 13, 17, 16,  2,  2,  8,  5, 16,  5,  6,  5, 11,\n",
      "         2, 16, 17, 17, 10,  1,  2,  3,  7, 15, 12, 17,  4,  3, 13,  9,  4, 11,\n",
      "        10, 14, 10, 18,  6,  2,  4,  7,  3,  5, 13, 12,  7, 14,  2,  5, 14, 15,\n",
      "         6, 12, 11,  6, 11, 14, 16, 17, 18,  4, 18,  5,  0, 14,  0,  8, 16, 13,\n",
      "        16,  8, 14, 17,  4, 16,  3, 16, 13,  1,  8,  3,  7,  4, 17, 10,  1, 16,\n",
      "         3,  5,  7,  2,  3,  0, 17, 13, 14,  3,  7, 13, 10,  8,  7,  1,  7,  9,\n",
      "        12, 11, 10,  6])\n",
      "tensor([ 2, 16,  7, 13, 10,  9,  4,  0,  6,  0,  6,  7, 13, 11,  9,  7,  2, 17,\n",
      "         8, 15, 12, 10, 18,  6, 10, 12,  6, 10,  8,  1, 10, 12, 17,  1,  7, 15,\n",
      "         4,  2, 17, 13, 12, 17, 14, 15, 13,  2, 10, 16, 11, 12, 17, 11, 11, 15,\n",
      "         9,  1,  3,  2,  6, 10, 13, 12, 17, 10, 15,  2, 10, 10,  3,  0,  3,  4,\n",
      "        13,  5,  5, 10,  6, 11,  7,  7, 17, 15, 10, 11, 16, 11,  3,  0,  3, 14,\n",
      "         6,  6, 12, 16,  1, 11, 15, 12,  0,  0,  8, 15,  3,  0, 10,  0,  0,  1,\n",
      "        18,  6, 10, 10, 11,  5,  0,  6, 15, 13, 17, 10,  4,  9,  4, 17,  0,  3,\n",
      "         6, 15,  0,  6, 16,  0, 15, 15, 10, 15, 15,  1, 17,  8, 15, 12,  9, 18,\n",
      "        17,  4, 15, 11, 15, 13,  6, 12, 17,  2, 12, 10, 15, 11, 17,  8,  5,  8,\n",
      "         5, 15,  3,  5,  2, 11, 16, 12,  5, 12, 11,  5, 17,  4,  0, 17,  6,  8,\n",
      "         6,  2,  2,  5, 17,  2, 13, 17,  7,  7, 10,  7, 15,  7,  0,  0, 10, 18,\n",
      "        11,  5, 15, 13, 12,  6, 14, 11,  7, 17,  6,  7,  7,  7, 10,  2,  9, 17,\n",
      "        17, 12,  5, 15, 10,  3,  7,  0, 10, 15, 10, 13,  5,  8, 17, 10,  0, 13,\n",
      "         7, 11, 15,  0,  5,  6,  2,  4,  6,  1,  7, 16, 10, 17, 11, 16,  8, 16,\n",
      "         4,  0, 10,  3])\n",
      "tensor([17,  6,  1,  9, 10,  6, 11, 17,  9, 17, 16, 10,  5,  1, 16,  5, 16, 14,\n",
      "         9, 16,  2, 16,  3, 18,  7,  7, 17, 15, 17, 11,  8, 17, 14, 13, 14, 10,\n",
      "         3, 18, 10,  6,  7,  5,  9, 11,  9,  3,  6, 15, 10, 17,  6,  7, 11, 13,\n",
      "        18, 15,  1, 14,  5,  7,  2,  5,  6, 17,  8, 15, 11, 17,  8, 12, 10, 10,\n",
      "         7, 13, 15,  5,  5,  3, 14,  6, 14,  0,  6, 15,  4,  6, 17,  6, 15, 12,\n",
      "        10,  6,  0, 11,  7, 18,  5, 12, 15,  4, 17,  8,  5,  1,  5,  5, 18,  6,\n",
      "         9, 15, 10,  7,  5,  6,  7,  2, 16,  7,  1, 13, 11, 17, 11, 11, 18,  6,\n",
      "        12, 16, 13, 14,  6, 18, 11,  1,  7, 12,  5, 11,  6, 11,  5, 16, 15, 12,\n",
      "        11, 13,  9,  7, 11,  9, 15,  6,  0, 12,  3,  6,  3, 15,  7,  9,  3, 18,\n",
      "        15,  7,  6,  3, 18,  5, 13, 10, 10, 11, 17,  1, 15,  7,  2, 10, 18,  1,\n",
      "         6, 17,  8, 18, 15,  9,  2, 15,  7,  0,  3, 11, 17, 10,  2, 17,  5,  4,\n",
      "        15, 12,  6,  0,  4, 13, 13,  2, 17, 18,  5,  7,  7,  5, 13,  2,  8, 12,\n",
      "        17,  3,  9,  2, 11, 10, 11,  7,  8,  5, 14, 11,  8,  1,  5,  0, 15, 10,\n",
      "         0, 15, 16,  5, 13, 12,  0,  1, 17,  2,  1, 16,  1, 15, 10,  8, 10,  7,\n",
      "         5,  6, 10, 16])\n",
      "tensor([ 6,  7, 12,  5, 13,  5, 11, 11, 12,  7, 15,  6,  6,  6, 11, 15,  9,  3,\n",
      "        15, 18, 18,  2, 10, 11, 17, 11,  7, 16, 18, 18, 12, 17,  2,  4,  4, 15,\n",
      "        12,  8, 12,  5, 11, 12,  9, 18,  5, 15, 18,  7,  7,  6, 11, 17,  0,  5,\n",
      "        10, 16, 14, 11, 12,  5,  8,  2,  1, 16,  5,  6,  1,  6,  6, 13, 17, 12,\n",
      "        16,  1, 10,  5,  2, 15,  7,  9, 10, 13, 11,  5, 12,  6, 15,  0,  9,  4,\n",
      "        14,  6, 17,  5,  7, 17, 13,  5,  6, 13,  7,  6,  7,  3, 11, 14, 17,  2,\n",
      "         6,  5, 16,  1,  0, 17,  4,  4,  5, 11, 15, 11,  5, 15,  8, 12,  7, 17,\n",
      "        17, 10, 11,  7, 14,  1, 15, 13, 17, 16, 16, 13, 15,  3,  5, 18,  3, 17,\n",
      "         7,  1,  1, 14,  6,  1,  6, 13, 11, 11,  2,  4, 10,  7,  8, 14,  7, 16,\n",
      "        17, 15,  7, 15,  6,  2, 16,  1, 17,  6,  2,  9, 15, 16,  1,  6,  5, 18,\n",
      "        15,  5, 15, 12,  9, 13, 15, 17,  1,  1, 13,  7,  4,  0, 18,  6,  5, 11,\n",
      "         7, 15, 10, 10,  7, 17,  1, 10, 13, 12,  3, 11, 11,  3,  3,  5,  1, 15,\n",
      "        11, 14, 10,  3,  4, 17,  2,  5,  3,  7,  5,  5, 13, 11, 16,  4, 15, 13,\n",
      "         4, 16,  7, 11,  3, 15,  1,  7,  5, 11, 14, 14, 14, 12,  5,  5, 10, 11,\n",
      "        13,  6,  6, 15])\n",
      "tensor([ 5,  0,  5, 11,  1,  3,  7, 10, 15, 12,  2,  6,  8,  2,  5, 10,  5,  1,\n",
      "        18,  5, 15,  4, 13, 11,  9, 15, 18, 13, 16,  4,  4,  5, 17,  5,  2,  2,\n",
      "         8,  5, 17,  9, 10, 14,  1,  0,  2,  6, 14, 12, 13, 17, 10,  7, 14,  3,\n",
      "         6, 12, 17,  7,  7,  9,  6,  9,  0, 13, 17,  5, 11, 17, 15, 10, 10,  6,\n",
      "        11, 15, 13,  6, 12,  8,  8, 15, 17, 14,  3, 11, 15, 18, 15, 15, 10, 10,\n",
      "        11,  2, 17,  5, 15, 17, 16,  7, 18, 10, 15, 16, 13,  7,  4, 11, 13,  7,\n",
      "         5, 17,  7,  3,  6,  6, 11, 17, 11, 11,  9,  1, 16,  2, 16, 16, 11,  3,\n",
      "         2,  2,  7,  8,  5, 17,  6, 12,  0, 18, 15, 15,  5, 11,  4, 13, 15, 15,\n",
      "         7, 13, 10,  2, 10,  6,  4,  5,  2,  7, 12,  5, 14, 10,  4,  2, 10,  6,\n",
      "        12,  3,  0,  7,  3, 11, 17,  6,  1,  4,  1,  7, 17, 10,  4, 16, 16, 13,\n",
      "        10, 15, 17,  3,  9,  9,  7, 14, 17,  0, 10,  5,  4, 10, 18, 16, 13,  5,\n",
      "        16,  6,  9,  5, 11, 10,  6,  5,  8,  7, 11, 11, 18, 18,  4, 17,  6, 13,\n",
      "        11, 11, 11, 15, 11,  0,  8, 13,  0,  2,  0, 12,  7, 17, 15,  7,  0, 17,\n",
      "        15, 10,  3,  0,  7, 17, 11, 13, 17, 11,  0,  5,  4, 11, 16,  0,  5,  1,\n",
      "        16, 18, 17,  6])\n",
      "tensor([17,  6, 15,  2, 11, 11,  1, 15,  1,  5,  3,  6, 11, 13,  6, 17,  8, 17,\n",
      "        16, 17, 17, 10,  8, 18, 17, 15, 13,  3,  1,  7,  3,  7, 18, 14, 13, 15,\n",
      "         5,  1, 16, 18, 12,  1,  0, 10,  6,  5, 12, 16, 10, 11, 10,  7, 13,  8,\n",
      "        10,  7, 10, 10,  5, 16, 15,  7,  9, 11,  6,  5, 13, 12, 17, 17,  5,  7,\n",
      "        17, 10,  5, 15, 18, 16, 18,  5, 10, 12,  3, 15, 17, 15,  9,  6,  4, 10,\n",
      "        14, 11, 13,  5,  2, 14, 15,  3, 11,  8, 11,  5, 18,  6,  2,  5, 17, 12,\n",
      "        12, 10, 17,  5, 15,  7, 17, 11, 17, 17, 13, 14, 15, 15, 12, 15,  5, 15,\n",
      "        11, 11,  7,  5,  7, 15,  5, 10,  5, 17, 12, 18, 17, 12,  5, 11, 15,  0,\n",
      "        12, 17, 14,  2,  1,  7, 10,  8, 10, 10, 15,  4,  5,  9, 11,  7, 14, 12,\n",
      "        12, 10, 15, 14, 18,  8,  8, 11,  7,  6,  1, 17,  0,  7, 18,  2, 11, 17,\n",
      "         5, 11, 13, 10,  6,  1, 10, 18,  5,  5,  5,  2,  6, 15,  7,  2, 15, 12,\n",
      "        11,  3, 11,  4,  5,  1, 16,  5, 10,  7,  7, 14, 15, 18,  4,  9,  2,  5,\n",
      "        18, 16, 14, 16,  9,  6, 14, 17,  1, 10, 16,  0,  1, 15, 10,  7,  0, 10,\n",
      "        10,  7, 14,  2,  7, 17,  2,  7,  7,  8,  2, 14, 18, 17,  5, 14,  1,  6,\n",
      "         7, 15,  5,  7])\n",
      "tensor([18, 11, 16,  5,  5, 10,  8, 18,  5, 16,  5, 11, 11,  2, 15,  6, 18, 10,\n",
      "         5,  9,  5,  1,  7,  3, 12,  7,  6,  2, 17,  7,  4, 11,  3, 18, 18, 16,\n",
      "        14, 16, 12,  0, 11, 18, 14,  7, 13,  5,  1, 11, 13, 11,  5,  7,  8, 17,\n",
      "         2,  1,  9, 11,  6,  8,  5,  7,  0, 15, 11,  6, 11, 18,  7,  0, 14, 15,\n",
      "        13, 13,  7, 10,  7, 13,  6,  7,  6,  5, 12,  3,  7,  5,  4, 16, 17, 14,\n",
      "         7,  6,  8,  6,  2, 11,  5,  1,  4,  1, 17, 17,  5,  1,  8, 11,  5, 10,\n",
      "        10, 13, 13,  9,  9,  6,  2, 10,  5, 15, 17, 17, 10, 11,  6,  8, 15, 11,\n",
      "         2,  7, 11,  3,  5,  0,  7,  5,  2, 17,  8, 15, 10,  6,  6,  3, 16,  7,\n",
      "        17, 16,  7,  5, 15, 15, 17,  4, 15,  6, 18, 18, 16, 17,  4, 17, 13, 11,\n",
      "        16, 17, 11, 15,  7, 12,  8, 10, 17, 12,  1, 11, 10, 16, 17, 11, 10,  3,\n",
      "        10,  3,  8,  4,  7, 17, 11,  9,  8,  7, 17, 10,  6, 15, 14, 11,  5, 15,\n",
      "         6, 11, 10,  0,  5, 15,  8, 15,  9,  2, 10, 17,  3,  8, 15, 17, 11, 14,\n",
      "         9, 14,  0,  7, 16,  9, 18,  3,  8,  5, 10,  6,  3,  5, 15,  7,  4, 17,\n",
      "         5, 14, 10,  3, 11,  1,  1, 10, 11,  7, 17, 17, 15, 10,  7, 10, 12,  7,\n",
      "         8,  4, 18, 11])\n",
      "tensor([ 7, 11,  5,  6, 11,  7,  7, 17, 17,  5, 18,  2, 17, 17, 13, 17, 18,  5,\n",
      "         0, 12, 18,  4,  2,  4, 15, 10, 13,  7,  6, 15, 17,  8, 17, 10, 11, 15,\n",
      "        12, 15, 18,  5, 16,  0,  1,  6,  7,  2,  4, 16, 15,  3,  8,  2, 10, 10,\n",
      "        16, 14, 15,  4,  6,  7, 11,  1,  3, 13, 15, 11,  5,  7,  4,  2, 17, 10,\n",
      "        11, 17, 17,  4,  7, 11,  9, 15, 13, 10, 16,  6,  7,  5, 14,  7,  5, 10,\n",
      "         5, 11,  9, 11, 10, 16,  7,  5,  2,  6, 18,  6,  7, 11, 18, 17, 12, 15,\n",
      "         5,  7,  7,  5, 10,  7,  0,  8,  6,  3,  1,  6,  7,  1,  7,  5,  9,  5,\n",
      "        11, 12, 16,  2, 17,  0,  2,  7, 16,  7, 16, 17,  6,  0, 14,  3, 14,  1,\n",
      "         7, 17,  6,  6, 11,  5,  1,  7, 11, 16, 17,  5,  2,  7,  8, 15, 15, 14,\n",
      "         8,  9,  2,  7,  0, 17, 15, 17,  9, 18,  3,  7, 13, 15,  7,  8,  8,  9,\n",
      "        15, 15, 17, 16,  8, 11,  5,  6,  5, 15,  2, 11, 17, 16,  5, 15, 15,  7,\n",
      "        17, 13,  9, 15, 10, 13, 14,  5, 12,  3, 12, 11,  5, 16,  1,  4, 13, 10,\n",
      "         1,  1, 14,  0,  1, 15,  0, 11,  8, 10, 14, 12,  8, 10,  7,  8,  5, 11,\n",
      "         0,  6,  3,  3,  8, 17, 15,  3,  5, 11,  6,  7,  7,  6, 17, 15, 10,  4,\n",
      "        16, 16,  7, 12])\n",
      "tensor([ 7,  6,  1, 13,  6,  9, 11, 15, 17,  9, 13, 16, 17, 15,  7,  4, 17, 18,\n",
      "         0, 17,  7, 12,  4,  6,  5,  5,  1, 16,  5,  7,  0, 12,  3,  9,  7,  9,\n",
      "         7,  2,  1, 11, 16,  6, 18,  5, 10, 15, 17, 10, 10, 10,  5, 10, 18,  7,\n",
      "        11, 15,  5,  5, 11, 18, 18, 12, 10, 16, 13,  9,  7,  5,  5,  0,  5, 18,\n",
      "         4, 11, 10, 13, 13,  2, 11, 12, 17, 17,  4, 16, 17,  3, 11, 13, 17, 12,\n",
      "        14,  4,  8, 15, 17, 15,  0, 12, 12,  1,  9, 13,  7, 15,  0,  5,  2,  4,\n",
      "         8, 11, 10,  4,  7,  4,  3,  4,  6, 17,  6,  2,  9,  5, 15, 15, 15,  7,\n",
      "         7,  3,  7,  2,  2, 17,  6,  7,  0, 11, 18, 18, 13,  1,  7, 12,  9, 18,\n",
      "         3, 16, 16,  4, 16,  0, 17,  3, 10,  8,  6,  1,  7,  1, 17,  3, 10,  2,\n",
      "        17,  3,  3, 15, 15,  3,  2,  8,  6, 13, 14,  5,  7, 14,  9,  1, 16,  8,\n",
      "        17,  9,  7, 14,  5,  6, 13, 13,  6, 15,  0, 14,  5, 11,  6,  6,  7, 13,\n",
      "         3, 17,  4, 15, 15, 15, 15, 11,  2,  0, 18,  7,  9,  0, 10,  6, 11,  7,\n",
      "         1,  0,  1, 13, 11, 13,  7, 15,  3, 18,  5, 16,  5,  2,  1,  2,  9, 12,\n",
      "        16,  7, 10, 17,  7, 15, 16, 16, 11,  3,  1,  5, 18, 15, 17, 15,  1, 13,\n",
      "        16, 13, 14, 17])\n",
      "tensor([ 1, 12, 17, 15, 15, 10,  4, 10,  5, 15,  6,  7,  5,  6,  7, 13, 17,  3,\n",
      "         6, 17,  4,  0, 17, 15, 15,  1, 16,  1,  8, 18,  5,  8, 11,  6, 18,  0,\n",
      "        15, 17,  5, 10, 10, 15, 17, 11,  4,  4,  3, 17, 16, 18, 10, 18,  4,  9,\n",
      "        10,  9,  4,  5,  6,  4, 18, 16, 18, 14, 11, 16,  1,  8, 11,  7, 12,  1,\n",
      "         5,  7,  0, 10,  0,  6, 16, 10,  7,  2, 10,  2,  7,  5, 16,  7, 11, 11,\n",
      "        17,  5, 11,  2,  4,  9,  5, 12, 11,  5,  9, 17, 11, 16,  0, 17, 15, 13,\n",
      "         3, 14, 17,  1, 15, 11, 15, 11,  3,  1, 11,  2,  1, 17, 13,  5, 16, 16,\n",
      "         7,  9, 13,  1,  7,  8, 11, 11,  4,  3, 15,  5,  1, 11, 17,  6, 17, 17,\n",
      "        10, 10, 10,  7,  4,  6, 10, 17, 10,  7, 17,  3, 11, 14, 12,  4,  1, 15,\n",
      "         6,  2, 18,  5, 15, 11,  3, 13,  3,  3, 15, 14,  3,  6,  9, 13,  1, 14,\n",
      "        11, 13,  4, 11, 11,  2, 10,  2, 13, 15,  4,  4, 10,  1, 16, 12,  0,  0,\n",
      "        10, 14, 15,  2, 13, 17, 12,  4,  4, 15, 12,  7, 16,  2, 10,  9, 11, 10,\n",
      "         7, 16, 10, 18,  7, 10, 10, 13, 14, 11,  1, 18, 11,  2,  6, 11,  8, 12,\n",
      "         2,  6,  2, 17,  5, 15, 15, 18, 17, 17,  7,  2,  4, 17, 16, 15, 17,  1,\n",
      "         1, 12, 11, 10])\n",
      "tensor([10, 12, 10, 12, 17,  1,  5,  7, 15, 14,  6, 10,  0,  4, 11, 15, 18,  9,\n",
      "         6,  3, 13, 10,  4, 16,  1,  3,  7,  2,  4,  7,  7,  6,  4,  1, 10, 13,\n",
      "         2,  5,  7,  8, 13,  3, 17, 10, 12,  5,  0, 17, 13,  3, 16, 13,  7, 17,\n",
      "        11, 17, 13, 18,  6, 15,  5,  4, 13, 15, 15,  4, 15,  0, 17, 15,  5, 13,\n",
      "         6,  5,  5,  6, 17, 14, 17, 10, 12,  6,  4,  2, 13, 14, 10,  5,  0, 18,\n",
      "         3, 15, 17, 15, 14,  6, 18,  2,  6,  7,  5,  2, 11,  1,  1,  5,  5, 17,\n",
      "         1,  5, 17,  5,  9,  7, 14, 17, 10,  7, 10, 14, 10, 13, 17,  5, 10, 15,\n",
      "        15, 17, 11, 16, 17, 11, 13,  2,  7,  5,  4,  5, 11,  7,  2,  1,  5,  8,\n",
      "         1,  7, 10,  8,  7,  1, 14,  8, 14,  6,  8,  8,  1, 15, 11,  5, 14,  9,\n",
      "        11,  6,  9,  6, 17, 14, 14,  6,  8,  2,  1, 13, 15,  0,  2,  5,  1,  6,\n",
      "         8,  0, 12,  4,  5,  3,  2,  6, 15, 13,  6, 18,  7, 15, 10,  7, 16, 17,\n",
      "         9, 10, 17, 15,  5, 15, 13,  8,  0,  9,  3,  7,  7, 14,  4,  1, 13,  9,\n",
      "        14,  0, 17,  6, 15, 15,  7, 10,  9,  6, 15, 17, 10,  8,  9,  7,  6,  3,\n",
      "         9,  9, 11,  1,  2, 10,  3,  6, 12, 16,  5,  6,  2, 12, 17,  8,  3, 10,\n",
      "         4, 13,  5,  0])\n",
      "tensor([ 6,  1, 10,  1,  6, 17,  5, 11, 11, 15, 13, 15,  7, 11, 11,  3,  4, 18,\n",
      "         4, 15, 15,  7, 17,  7, 17, 15, 18, 12, 15,  7, 15,  0,  6, 12,  1, 11,\n",
      "         9,  1, 13,  3, 15, 14, 12,  5, 17,  7, 16, 14, 10, 12, 18,  9,  6,  7,\n",
      "         6,  0, 18,  6,  2, 18, 11,  0, 18, 16, 11,  6,  0,  2, 17,  6,  1, 14,\n",
      "         3, 16,  7, 13,  6,  8, 15, 13,  9,  6,  2, 12, 15,  3, 13, 17, 17,  3,\n",
      "         2,  7, 17,  5,  3, 12, 11, 10,  5,  7,  4,  1,  9, 17, 10, 11, 12, 14,\n",
      "        17, 13,  8,  9,  3, 18, 16, 10,  6, 10,  8,  8,  6, 10,  2,  7, 16, 18,\n",
      "        13, 18, 11, 10, 12, 13,  7, 16,  4,  8,  0,  1, 10, 10, 10, 12,  6, 15,\n",
      "         6, 15,  9, 10,  8,  7, 17, 18,  8,  0,  8, 18, 12,  6,  1, 10, 18, 15,\n",
      "         3, 10,  2,  0,  6,  9, 12,  8, 13,  6, 13,  7, 10, 16,  7, 13, 14, 15,\n",
      "        11, 17,  6,  2,  6, 18, 18,  6, 10,  6, 15,  6, 11, 12, 17, 17, 11,  7,\n",
      "        15,  6,  2,  1, 14,  6,  5, 15,  8, 14,  5, 18, 15,  0, 12, 15,  7, 10,\n",
      "         2, 16,  5, 17,  1, 14,  5,  4, 10,  5,  5, 10,  7, 10,  6,  0,  0,  8,\n",
      "        16,  7, 14, 18, 11,  3,  7, 17, 10,  5,  8, 11,  7,  2,  3, 17,  6,  6,\n",
      "        16,  7, 12,  6])\n",
      "tensor([ 6,  0,  5, 11,  7, 15,  6,  7, 10,  1, 18, 10,  5, 15,  1,  7, 13, 16,\n",
      "        11,  7,  0, 18, 11,  1,  4,  7,  5, 17, 17,  7, 18,  6,  3,  6,  6, 17,\n",
      "         0, 12,  3, 15,  5, 17, 17,  4,  6,  7, 11, 11, 10, 16, 11,  0, 15,  7,\n",
      "         4,  2, 15,  7,  7,  2,  4, 11,  4,  2,  1, 14, 10, 16, 14,  8, 13, 10,\n",
      "         5,  1, 14, 16,  5, 13,  5, 15, 17, 17, 10,  6,  5,  6, 13,  7,  8,  9,\n",
      "        18, 15,  5,  7,  3,  3, 17, 11,  5, 13, 15, 13, 17,  5,  5, 15, 18, 10,\n",
      "        18,  5,  3,  3, 13,  2, 17, 11,  5,  5, 14, 11,  6,  7, 11, 10, 17,  3,\n",
      "         8,  6, 12, 10, 10,  1,  5,  8, 11, 15, 10,  6,  7, 17, 15, 15, 12, 11,\n",
      "         7,  1,  1, 12, 11,  6,  1, 16,  9, 17,  0, 14,  4, 17,  9, 10, 10,  0,\n",
      "        17, 17, 14,  6, 12,  3, 11,  4,  7,  5, 17, 15, 17, 15, 15, 17, 11,  7,\n",
      "        10,  6,  3, 11, 16, 18,  7,  5, 17, 10, 16,  7,  0, 10, 11, 10, 13, 14,\n",
      "         2,  9, 16, 15, 17, 13,  8, 18, 16,  1, 14, 11, 10,  3,  5,  5, 15, 10,\n",
      "         6,  7,  1,  9,  0, 11,  7, 16, 15,  6, 10,  5,  0,  2, 15, 12,  7, 10,\n",
      "        17,  7,  3, 10, 12, 17,  8,  6, 17, 10,  9,  0, 15, 17, 16,  2,  9,  8,\n",
      "         3, 18,  7, 11])\n",
      "tensor([ 4, 17, 14,  5, 10,  7,  3,  9,  5,  5,  3,  0, 17, 11, 11, 10, 14, 14,\n",
      "        10, 11, 15, 11, 17, 10, 16, 11,  6, 11, 15, 10, 12,  6, 17, 15, 11, 17,\n",
      "        16, 14,  0, 12,  0, 10, 16, 11,  6, 13,  5,  9, 13, 17, 11, 13, 11,  2,\n",
      "        11, 11,  7,  5, 14, 15,  7,  3,  4, 15,  7,  2, 18,  5, 15, 16, 17, 15,\n",
      "        15, 12,  2, 10,  8, 11,  6,  6,  3,  5,  3, 17, 13, 18, 10, 18,  7,  3,\n",
      "         7, 11,  6,  6, 10, 15, 16,  3,  4,  6, 15, 13,  6, 13,  8,  6,  7, 17,\n",
      "        10,  9, 16, 15, 18,  8,  5, 12, 13,  5, 11, 13, 10, 11, 16,  5,  5,  7,\n",
      "         4,  5, 18,  3, 17,  3, 18,  7, 15, 18, 10, 15,  6, 10,  6,  5,  2,  7,\n",
      "         7, 11,  6,  0,  9, 11,  7,  5, 13, 17, 14,  1, 15,  0, 17, 17,  7, 17,\n",
      "        17, 16,  5, 11,  7, 17,  5,  7,  5,  8,  7, 14, 16, 10, 16, 17,  9, 14,\n",
      "         4,  7,  8,  1,  8, 12,  6, 12, 10,  5,  2, 17,  4,  1,  4,  1, 18, 10,\n",
      "         8,  1, 18,  3,  1, 10, 11,  5,  3, 15,  5,  5,  0,  5,  5,  9,  4, 18,\n",
      "        10,  2, 17, 10, 13,  5, 10, 16, 12, 15,  5, 14, 15,  9,  9, 14,  3,  0,\n",
      "         4, 11, 14, 17,  3,  5, 13, 17, 17,  5, 17, 15,  6, 16,  4, 15, 11, 15,\n",
      "         6,  9, 11, 13])\n",
      "tensor([17, 18,  4,  9,  6,  0,  2, 15,  1, 17,  7, 11,  5, 11,  6, 17,  5, 14,\n",
      "        12,  8, 11,  7,  4, 18, 13, 11,  0,  9,  6, 15, 18, 18,  8, 13,  3, 12,\n",
      "        10,  7, 14,  2,  7,  7, 16, 14, 11,  3, 14,  5, 16, 17, 16, 15, 18,  7,\n",
      "         9, 15, 16,  4, 11, 13,  8, 10, 10, 10, 10, 18,  4,  7,  5, 15,  8, 12,\n",
      "         4, 11, 17,  4,  8,  6, 10,  5,  3,  2,  1, 13,  7,  6, 11, 11, 15, 18,\n",
      "        15,  5, 18,  6,  5,  4,  7, 13,  0,  4, 15, 15, 15,  7,  7,  1, 16, 18,\n",
      "        13,  4,  2, 17,  4,  8, 15, 17,  4,  4, 16, 11,  5,  2, 11,  5,  9,  7,\n",
      "         1,  7, 15,  3, 16, 11,  8, 13,  7,  0,  5, 18,  6, 15,  6, 11,  5,  5,\n",
      "         8,  5, 12,  6, 15, 15,  8,  3, 12, 12,  5, 17, 13,  1,  5, 13, 18,  5,\n",
      "         9,  8, 17, 13,  6,  7,  5, 17, 15,  6,  2,  2, 14,  4, 15, 14, 15, 15,\n",
      "        15,  7,  3,  6, 11,  4, 16,  9,  9,  7,  2,  3, 16, 18, 15,  5,  7, 11,\n",
      "         9,  1,  9, 17,  6, 17, 10, 11,  9,  2, 16, 13, 16, 17, 11,  1, 16,  9,\n",
      "        16, 11,  7, 17,  5, 12,  8, 10, 16,  2,  3, 15, 12, 14, 11, 10,  9,  1,\n",
      "         4, 12, 17,  3, 17,  5, 15,  8,  9,  9,  8,  1, 10,  9,  7, 17,  6, 11,\n",
      "        17,  7,  2,  0])\n",
      "tensor([ 5,  7,  1,  9, 15,  7,  6,  5,  5, 17, 16, 14,  1,  5, 11,  7, 10,  2,\n",
      "        16, 14,  7, 13, 15,  8, 11, 11,  9,  6,  1,  2, 17,  2, 15,  7, 15, 12,\n",
      "         2, 17,  7,  6, 16,  7, 16, 15, 16, 14,  2, 11, 10, 14,  2, 10, 12,  6,\n",
      "         3, 10,  5, 11,  7,  6, 14, 11,  6, 11,  5, 18,  6,  6, 17,  7,  7, 17,\n",
      "        12, 15,  5, 18, 11,  1,  5,  3, 15, 10, 17,  1,  7,  8, 18, 15, 16, 10,\n",
      "         6, 10, 12, 15,  7,  2,  7, 10,  5,  5, 17, 12, 11, 16, 17,  4,  7,  2,\n",
      "         8,  8,  4, 10, 15,  6, 15, 14, 17,  6,  0, 18, 18,  7, 15,  6, 12, 16,\n",
      "        11, 15, 17, 15, 11, 10,  2, 18,  0,  5,  1,  2, 17, 17,  6,  0,  4,  4,\n",
      "         4,  7,  3, 10,  5, 13, 12,  7,  6, 10,  6,  4, 16, 17, 15, 11, 10, 13,\n",
      "         0, 16, 18,  8, 11, 13,  1,  5, 14,  3,  7,  6, 16,  6,  6,  2, 13, 15,\n",
      "         8,  1, 15,  7,  6, 17, 12, 17, 16, 13,  5,  6,  5, 11, 13, 12, 13,  7,\n",
      "         5,  5, 12,  5,  3, 11, 15,  5, 15,  5,  8, 15,  6,  3,  6, 17, 18, 17,\n",
      "         6,  5,  5, 12,  3, 15,  6,  3, 17,  6,  7, 10, 16,  0, 14, 14, 15,  6,\n",
      "         4,  9, 17, 10,  0,  7,  5,  8,  7,  9,  3, 15, 15,  9,  7,  4,  7, 11,\n",
      "        12,  4,  4, 16])\n",
      "tensor([ 4, 15,  7, 10,  4, 10,  6,  6, 11,  7, 17,  3, 18, 11,  4,  2,  6, 15,\n",
      "        17,  9, 18, 17,  5, 15, 11, 17,  5, 10, 10,  8, 17, 11, 12,  7, 11,  1,\n",
      "        15,  7, 18, 11,  8,  9,  0, 12, 13, 14, 10, 15, 15, 15,  0,  5, 17, 15,\n",
      "         4,  9,  3,  4,  6,  4,  4,  6, 11, 17,  5,  6, 17, 11, 17, 15, 17, 10,\n",
      "         1, 17,  5,  0, 10, 11,  6,  6, 15,  8, 11,  7, 11, 17,  6,  5, 16,  5,\n",
      "        17,  2,  2, 12, 11, 15, 13,  5, 15,  6, 18, 12,  6,  2,  7,  2, 15,  1,\n",
      "        10,  3,  6, 11,  2, 16,  2,  7, 13, 12,  6,  6,  3, 13, 15,  5,  0, 16,\n",
      "         1,  4,  9, 12, 11, 17, 15, 18,  3,  8,  5,  6, 15, 13,  2,  7,  1,  6,\n",
      "        17,  2, 11,  1,  7, 16,  5,  4,  6, 16, 13, 15,  5, 10, 10, 15,  5, 12,\n",
      "         9,  7, 10,  4,  1,  1, 15, 11, 12, 12,  4,  7,  0, 18,  3, 11,  9, 10,\n",
      "        10,  4,  3,  7, 17, 15,  1, 12, 12,  7, 10, 17,  7,  1, 13, 18, 18, 13,\n",
      "        12, 13, 17, 11, 11,  7, 16,  7,  8,  4,  4, 17,  5,  1, 17,  8,  6,  1,\n",
      "         4,  7, 15,  7,  9,  2,  8,  7, 16, 11, 16,  5,  4,  6,  0, 11, 17, 11,\n",
      "         6,  7, 11, 14, 12, 16, 10, 10,  8,  7,  0,  2, 10,  5, 10, 16,  7,  5,\n",
      "        16,  6,  7,  4])\n",
      "tensor([ 9, 12,  9,  5,  6,  9, 11,  9, 15, 10,  0, 10,  2,  4,  2, 15,  9, 10,\n",
      "        14, 12,  6,  6, 12, 15, 12, 12,  4, 15,  6,  7, 13, 16, 16,  4, 16,  6,\n",
      "         1, 17,  5,  4,  7, 17,  7,  6,  2,  4, 12, 17,  5, 11,  6, 15, 15,  7,\n",
      "         2, 10, 17,  7,  2, 13, 13, 12,  6,  7, 17, 13,  9, 16, 15,  9, 11, 15,\n",
      "         7, 12, 11, 15, 10,  2, 15,  7, 13, 15, 17, 17, 12, 17,  1, 13,  4,  5,\n",
      "         6,  4, 16,  5, 12, 13,  9,  5,  7, 17, 11,  6,  7, 12, 10,  8,  1, 18,\n",
      "         7,  5,  7,  7,  3, 10, 18, 11,  2, 15,  6, 15, 15, 17, 10,  3,  2, 15,\n",
      "        12, 10, 12, 18,  6, 13, 17,  4, 10,  5,  2,  5,  6, 15,  5, 14,  9,  5,\n",
      "        18, 10, 16,  8,  1, 12,  2,  0,  0, 10, 12,  9, 11,  4, 12, 17, 13,  7,\n",
      "         4, 17, 10,  7,  6,  2,  5,  6,  7,  2,  3,  9,  2, 13, 15, 14, 18, 16,\n",
      "         6, 12, 15,  7,  1, 15, 15,  1,  7,  2,  3,  7,  6,  7,  4, 15, 11,  1,\n",
      "        16,  3, 18, 13,  0, 10,  1, 11,  4,  2,  5, 18,  1, 15, 13,  2,  3, 10,\n",
      "        13, 17, 16,  9, 10, 15, 14, 16,  2,  6, 16,  2,  7,  6,  0, 14,  2, 17,\n",
      "         6, 10, 13,  5,  0, 17,  7,  6,  2, 14,  7,  6,  9,  6,  7, 12,  7, 16,\n",
      "         7, 14,  3, 14])\n",
      "tensor([ 1, 11,  0, 14,  3,  4,  4,  6,  7,  1, 10,  3,  0,  7, 16, 17,  2,  0,\n",
      "         3,  2,  7, 15, 18,  2, 11,  5,  3,  7,  1,  9, 16, 12,  5,  0,  0,  9,\n",
      "         7,  7, 13, 12, 11,  1, 11,  5, 16,  5,  6, 16,  4, 15, 16, 16,  6,  7,\n",
      "        11,  5, 18, 16,  0, 10,  2,  6, 18, 18,  3, 15,  0, 18, 14,  6,  6,  7,\n",
      "        12, 17,  7,  5,  9,  0,  5,  9, 12,  4, 17,  7, 13,  4, 10,  1, 16, 10,\n",
      "         8, 15, 14,  4, 14, 11, 11, 16,  0,  6,  1, 17, 11,  5,  6,  1, 10, 10,\n",
      "        10, 10,  2, 13, 15, 17,  5,  6,  9, 15, 14,  2,  6, 10,  9, 14, 15,  7,\n",
      "         7,  7,  7, 12, 18,  6, 10, 15, 11, 10,  5,  4, 12,  6,  8,  3,  7, 16,\n",
      "        16, 13,  5, 14, 11,  3,  8,  8,  3,  7, 12, 12,  5, 12, 14,  7, 11,  2,\n",
      "         2, 13, 17, 15, 18, 18, 16,  5,  1,  3, 11,  0,  7, 11,  8, 10,  5, 16,\n",
      "        16, 11,  9, 17, 15, 13,  9,  6,  9, 17, 14,  7, 15,  6,  4, 10, 14,  0,\n",
      "         1, 15,  7, 18,  2, 17,  8,  8, 17,  7, 15, 14,  3, 10,  5,  2,  6,  3,\n",
      "         1,  1,  9,  0, 16,  6,  8,  8, 17,  1, 10, 17, 13,  9, 11, 10, 10,  4,\n",
      "        17, 15,  5,  5,  5, 15,  0,  6, 10, 13,  8,  6, 17, 11,  9,  7,  5, 15,\n",
      "         1, 15,  7, 18])\n",
      "tensor([ 1, 18,  6, 10, 10,  5,  1,  2, 15,  5,  2,  6,  2, 16,  8, 13,  3, 13,\n",
      "        12,  5, 12, 11, 10, 17, 11,  2, 11, 13, 11, 17, 11,  6, 10, 11,  2, 17,\n",
      "         8,  8, 17, 17,  5, 13, 15, 10, 18,  5, 11, 17,  6, 17,  6,  7, 15, 13,\n",
      "        18,  6,  5, 12, 11, 15, 10, 10,  6, 17, 11, 11,  8, 10,  6,  0,  1, 11,\n",
      "        16, 15, 12,  2,  6, 10, 11, 16,  4,  0, 11, 18, 12, 14,  2, 17, 17, 10,\n",
      "        15,  5, 15, 11, 15,  7, 10, 11,  5, 10, 10,  3,  5, 10,  6,  7, 13, 11,\n",
      "        10,  0,  9,  0, 16, 10,  6,  3, 18, 16,  0, 17, 13, 10,  2,  0,  7,  0,\n",
      "        16,  6, 12, 11, 15, 13, 13, 12,  2, 13,  8, 17,  6, 11,  5,  9,  7, 17,\n",
      "        11, 13, 17, 17, 11, 10, 14,  2,  7, 17, 14,  5, 15, 12,  4, 15,  5,  1,\n",
      "        12,  2,  7, 16, 17,  3, 10,  6,  7,  1,  8,  9,  9, 11, 15, 11, 18,  8,\n",
      "         3,  6, 14,  7,  6, 17, 14,  1, 15, 10,  5,  6, 15,  7,  6, 13, 12,  6,\n",
      "         3, 17, 10, 16, 10, 15,  8, 13, 15, 10,  4, 13, 15, 12,  8, 17,  6,  9,\n",
      "         1, 14,  2, 15,  4,  2, 18, 17,  8, 15,  6,  6,  4, 15,  5,  2,  7,  3,\n",
      "         9,  3, 13, 10, 15, 10, 11,  2, 10,  3,  1, 17, 14, 13,  5, 14, 12,  5,\n",
      "        14, 16, 18, 12])\n",
      "tensor([ 1,  7,  1,  6, 16, 13, 10,  7, 11, 15,  8, 11,  1, 17,  2,  4, 11,  4,\n",
      "        17, 12,  6, 13, 14, 18,  7, 17,  3, 15,  3,  2,  1,  1, 13,  7, 12, 11,\n",
      "        16, 10, 13,  7, 16, 18, 11,  8, 15,  1,  4,  6,  0,  5, 18, 10,  9, 18,\n",
      "        12,  3, 11,  0,  5, 17,  7,  6, 15,  8,  7, 17, 12, 17, 11, 10, 11, 17,\n",
      "        11, 17,  4, 13, 11,  5, 15,  5,  4,  0,  1,  9,  9,  7, 11,  4,  9, 12,\n",
      "        11, 17,  3,  2,  4,  0, 14, 10, 17,  1,  4,  2, 15, 12,  9,  5,  6,  7,\n",
      "         5,  1,  7,  2,  5,  1,  2, 17,  9, 11, 12, 13,  6,  7,  2, 11,  4,  6,\n",
      "        17, 10, 11, 10, 13, 16,  9, 17,  3,  1, 10,  7, 17, 12,  2,  7,  3,  7,\n",
      "        10,  4, 11,  5,  8, 11,  4, 14,  6, 11,  6, 11,  6, 17,  2, 15, 11, 14,\n",
      "         7, 18,  1, 11, 17, 17, 17,  2,  5,  5,  6, 13, 11,  4,  3,  1,  4, 11,\n",
      "         5,  7, 17,  4,  7,  6,  6,  0,  3, 10, 17, 15,  5, 15,  5, 18, 12, 18,\n",
      "         7, 17,  5,  3,  5,  7, 14, 16, 11,  5,  1,  6, 15, 16,  7, 15, 13,  5,\n",
      "         4,  5, 14,  3,  3,  8, 12,  1,  5,  2, 11,  2, 10,  9,  2, 11, 11,  1,\n",
      "         3, 16, 12, 17,  8,  8,  7,  6, 11,  2, 10,  7,  0, 15, 13, 10, 12, 13,\n",
      "        17, 18,  8, 17])\n",
      "tensor([13,  5,  5, 15,  1,  3,  7,  2, 17,  6,  6,  5, 13, 10,  5,  5, 15,  6,\n",
      "        17,  0, 12,  2,  0, 11, 15, 14,  4,  7, 18,  0, 11,  5, 17, 16, 13, 17,\n",
      "         6,  5, 17,  2,  6, 10,  6, 13, 15, 14,  8,  8, 16, 12, 12, 12,  8, 15,\n",
      "         0, 18,  4, 10,  7,  7, 15,  7,  5,  6, 16, 13, 11, 16, 16,  7, 17,  8,\n",
      "        11,  2,  5,  2, 11,  5, 11, 11, 15,  8,  4,  8, 14, 15,  4, 12,  3,  0,\n",
      "        12, 17,  4,  1, 16, 15, 18, 12, 10, 11,  6,  8, 11, 14, 17, 13,  6, 17,\n",
      "        12,  7, 16, 18, 11, 14,  5,  8, 18, 18, 10,  7,  2, 14, 13,  7, 10, 18,\n",
      "         1, 11,  2,  5,  4, 11,  1, 14,  7, 11,  5,  0,  1,  3, 15,  6,  6, 13,\n",
      "         2,  6, 17,  5, 10, 16, 15,  4,  3,  1, 11,  3,  3, 16, 15, 14, 11, 10,\n",
      "         7,  6,  2,  6,  7,  3,  5,  6,  5,  0,  7, 15, 10, 10,  6, 10, 16, 12,\n",
      "        17,  9, 10, 13,  7, 11, 15, 13, 18,  5, 17, 16, 11, 15, 17,  8, 11, 18,\n",
      "        15, 11, 13, 14, 15, 16,  8, 17,  6, 11,  5,  6,  3, 11,  0,  9,  7,  2,\n",
      "        15, 16,  0, 17,  6, 12,  5, 10, 10, 12, 17,  7, 15,  9,  7,  6, 10,  7,\n",
      "         1,  5,  1, 11,  1, 10,  7,  1,  8,  7, 10, 13,  5, 10,  7, 17,  7,  4,\n",
      "         4, 11, 10,  2])\n"
     ]
    },
    {
     "name": "stderr",
     "output_type": "stream",
     "text": [
      "  0%|          | 0/20 [00:11<?, ?it/s]\n"
     ]
    },
    {
     "ename": "KeyboardInterrupt",
     "evalue": "",
     "output_type": "error",
     "traceback": [
      "\u001b[0;31m---------------------------------------------------------------------------\u001b[0m",
      "\u001b[0;31mKeyboardInterrupt\u001b[0m                         Traceback (most recent call last)",
      "\u001b[0;32m<ipython-input-17-ea5c735941d0>\u001b[0m in \u001b[0;36m<module>\u001b[0;34m\u001b[0m\n\u001b[1;32m     26\u001b[0m \u001b[0;34m\u001b[0m\u001b[0m\n\u001b[1;32m     27\u001b[0m         \u001b[0moptimizer\u001b[0m\u001b[0;34m.\u001b[0m\u001b[0mzero_grad\u001b[0m\u001b[0;34m(\u001b[0m\u001b[0;34m)\u001b[0m\u001b[0;34m\u001b[0m\u001b[0;34m\u001b[0m\u001b[0m\n\u001b[0;32m---> 28\u001b[0;31m         \u001b[0mloss\u001b[0m\u001b[0;34m.\u001b[0m\u001b[0mbackward\u001b[0m\u001b[0;34m(\u001b[0m\u001b[0;34m)\u001b[0m\u001b[0;34m\u001b[0m\u001b[0;34m\u001b[0m\u001b[0m\n\u001b[0m\u001b[1;32m     29\u001b[0m         \u001b[0moptimizer\u001b[0m\u001b[0;34m.\u001b[0m\u001b[0mstep\u001b[0m\u001b[0;34m(\u001b[0m\u001b[0;34m)\u001b[0m\u001b[0;34m\u001b[0m\u001b[0;34m\u001b[0m\u001b[0m\n\u001b[1;32m     30\u001b[0m \u001b[0;34m\u001b[0m\u001b[0m\n",
      "\u001b[0;32m~/anaconda3/envs/viscando/lib/python3.8/site-packages/torch/tensor.py\u001b[0m in \u001b[0;36mbackward\u001b[0;34m(self, gradient, retain_graph, create_graph, inputs)\u001b[0m\n\u001b[1;32m    243\u001b[0m                 \u001b[0mcreate_graph\u001b[0m\u001b[0;34m=\u001b[0m\u001b[0mcreate_graph\u001b[0m\u001b[0;34m,\u001b[0m\u001b[0;34m\u001b[0m\u001b[0;34m\u001b[0m\u001b[0m\n\u001b[1;32m    244\u001b[0m                 inputs=inputs)\n\u001b[0;32m--> 245\u001b[0;31m         \u001b[0mtorch\u001b[0m\u001b[0;34m.\u001b[0m\u001b[0mautograd\u001b[0m\u001b[0;34m.\u001b[0m\u001b[0mbackward\u001b[0m\u001b[0;34m(\u001b[0m\u001b[0mself\u001b[0m\u001b[0;34m,\u001b[0m \u001b[0mgradient\u001b[0m\u001b[0;34m,\u001b[0m \u001b[0mretain_graph\u001b[0m\u001b[0;34m,\u001b[0m \u001b[0mcreate_graph\u001b[0m\u001b[0;34m,\u001b[0m \u001b[0minputs\u001b[0m\u001b[0;34m=\u001b[0m\u001b[0minputs\u001b[0m\u001b[0;34m)\u001b[0m\u001b[0;34m\u001b[0m\u001b[0;34m\u001b[0m\u001b[0m\n\u001b[0m\u001b[1;32m    246\u001b[0m \u001b[0;34m\u001b[0m\u001b[0m\n\u001b[1;32m    247\u001b[0m     \u001b[0;32mdef\u001b[0m \u001b[0mregister_hook\u001b[0m\u001b[0;34m(\u001b[0m\u001b[0mself\u001b[0m\u001b[0;34m,\u001b[0m \u001b[0mhook\u001b[0m\u001b[0;34m)\u001b[0m\u001b[0;34m:\u001b[0m\u001b[0;34m\u001b[0m\u001b[0;34m\u001b[0m\u001b[0m\n",
      "\u001b[0;32m~/anaconda3/envs/viscando/lib/python3.8/site-packages/torch/autograd/__init__.py\u001b[0m in \u001b[0;36mbackward\u001b[0;34m(tensors, grad_tensors, retain_graph, create_graph, grad_variables, inputs)\u001b[0m\n\u001b[1;32m    143\u001b[0m         \u001b[0mretain_graph\u001b[0m \u001b[0;34m=\u001b[0m \u001b[0mcreate_graph\u001b[0m\u001b[0;34m\u001b[0m\u001b[0;34m\u001b[0m\u001b[0m\n\u001b[1;32m    144\u001b[0m \u001b[0;34m\u001b[0m\u001b[0m\n\u001b[0;32m--> 145\u001b[0;31m     Variable._execution_engine.run_backward(\n\u001b[0m\u001b[1;32m    146\u001b[0m         \u001b[0mtensors\u001b[0m\u001b[0;34m,\u001b[0m \u001b[0mgrad_tensors_\u001b[0m\u001b[0;34m,\u001b[0m \u001b[0mretain_graph\u001b[0m\u001b[0;34m,\u001b[0m \u001b[0mcreate_graph\u001b[0m\u001b[0;34m,\u001b[0m \u001b[0minputs\u001b[0m\u001b[0;34m,\u001b[0m\u001b[0;34m\u001b[0m\u001b[0;34m\u001b[0m\u001b[0m\n\u001b[1;32m    147\u001b[0m         allow_unreachable=True, accumulate_grad=True)  # allow_unreachable flag\n",
      "\u001b[0;31mKeyboardInterrupt\u001b[0m: "
     ]
    }
   ],
   "source": [
    "from preprocessing import Preprocessing  # run first with - F.nll_loss 10 iterations, than +F.nll_loss 20 iterations, it works starts to have results, lr 1e-3\n",
    "\n",
    "\n",
    "\n",
    "processor = Preprocessing(train_set, validation_set, test_set)\n",
    "model.train()\n",
    "\n",
    "train_loss_history, nb_epochs = [], 20\n",
    "valid_loss_history = []\n",
    "for epoch in tqdm(range(nb_epochs)):\n",
    "    \n",
    "    # train and eval train loss\n",
    "    train_loss = 0.0\n",
    "    for batch_idx, (data, target) in enumerate(train_loader):\n",
    "\n",
    "        print(target)\n",
    "        target = target.to(device)\n",
    "        data = (data-data.mean())/data.std()\n",
    "\n",
    "        data = data.to(device, dtype=torch.float)\n",
    "        output = model(data.unsqueeze(1))\n",
    "        _, pred = torch.max(output,1)\n",
    "\n",
    "        # negative log-likelihood for tensor of size (batch x 1 x n_output)\n",
    "        loss = F.nll_loss(output, target)\n",
    "\n",
    "        optimizer.zero_grad()  \n",
    "        loss.backward()  \n",
    "        optimizer.step()\n",
    "\n",
    "        train_loss += loss.item()\n",
    "    print('Train batch loss: {:.6f},'.format(train_loss))\n",
    "    train_loss_history.append(loss)\n",
    "    \n",
    "#     # eval val loss\n",
    "#     with torch.no_grad():\n",
    "#         model.eval()\n",
    "#         valid_loss = 0 \n",
    "#         for data, target in validation_loader:\n",
    "            \n",
    "#             target = target.to(device)\n",
    "#             data = data.to(device, dtype=torch.float)\n",
    "#             output = model(data.unsqueeze(1))\n",
    "#             _,pred = torch.max(output,1)\n",
    "            \n",
    "#             loss = F.nll_loss(output, target)\n",
    "#             valid_loss += loss.item()\n",
    "#     valid_loss_history.append(valid_loss)\n",
    "            \n",
    "            \n",
    "\n",
    "    \n",
    "plt.plot(train_loss_history, \"r--\", label=\"train_loss\")\n",
    "# plt.plot(valid_loss_history, \"g--\", label=\"val_loss\")\n",
    "plt.legend();"
   ]
  },
  {
   "cell_type": "code",
   "execution_count": 13,
   "metadata": {},
   "outputs": [
    {
     "data": {
      "text/plain": [
       "674.9401492337615"
      ]
     },
     "execution_count": 13,
     "metadata": {},
     "output_type": "execute_result"
    }
   ],
   "source": [
    "np.max(train_set[100][0])"
   ]
  }
 ],
 "metadata": {
  "kernelspec": {
   "display_name": "viscando",
   "language": "python",
   "name": "viscando"
  },
  "language_info": {
   "codemirror_mode": {
    "name": "ipython",
    "version": 3
   },
   "file_extension": ".py",
   "mimetype": "text/x-python",
   "name": "python",
   "nbconvert_exporter": "python",
   "pygments_lexer": "ipython3",
   "version": "3.8.12"
  }
 },
 "nbformat": 4,
 "nbformat_minor": 4
}
