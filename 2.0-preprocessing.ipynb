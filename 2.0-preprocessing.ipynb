{
 "cells": [
  {
   "cell_type": "code",
   "execution_count": 3,
   "metadata": {},
   "outputs": [
    {
     "name": "stdout",
     "output_type": "stream",
     "text": [
      "running on GPU = True\n",
      "loading of datasets done\n"
     ]
    }
   ],
   "source": [
    "from libraries import * \n",
    "from preprocessing import downloading_loading_processed_files\n",
    "from utils import enframe #, pad_sequence\n",
    "warnings.filterwarnings(\"ignore\")\n",
    "\n",
    "# selecting GPU if possible\n",
    "device = torch.device(\"cuda\" if torch.cuda.is_available() else \"cpu\")\n",
    "print(f\"running on GPU = {str(device) == 'cuda'}\")\n",
    "\n",
    "# (down)loading split datasets, can be run twice if kernel dies 1st time\n",
    "train_set, validation_set, test_set = downloading_loading_processed_files(\n",
    "    downsampling=True)\n",
    "print(f\"loading of datasets done\")\n",
    "\n",
    "# setting up computational parameters\n",
    "if device == \"cuda\":\n",
    "    num_workers, pin_memory = 4, True\n",
    "else:\n",
    "    num_workers, pin_memory = 0, False"
   ]
  },
  {
   "cell_type": "code",
   "execution_count": 4,
   "metadata": {},
   "outputs": [],
   "source": [
    "# all element in dataset are shpae 78*13\n",
    "# about 2,8 to 2,9% of the inputs have nan in it (preprocessing problematic: dataset should be filtered\n",
    "\n",
    "def remove_nan_in(dataset):\n",
    "    not_nan_entries = []\n",
    "    for i, (lmfcc, sample_rate, label, speaker_id, utterance_number) in enumerate(dataset):\n",
    "        if not np.isnan(lmfcc).any():\n",
    "            not_nan_entries.append(i)\n",
    "    return np.array(dataset)[not_nan_entries]\n",
    "\n",
    "train_set = remove_nan_in(train_set)\n",
    "validation_set = remove_nan_in(validation_set)"
   ]
  },
  {
   "cell_type": "code",
   "execution_count": 5,
   "metadata": {},
   "outputs": [
    {
     "data": {
      "image/png": "[encoded data removed]",
      "text/plain": [
       "<Figure size 432x288 with 1 Axes>"
      ]
     },
     "metadata": {
      "needs_background": "light"
     },
     "output_type": "display_data"
    }
   ],
   "source": [
    "plt.pcolormesh(train_set[10][0].T);"
   ]
  },
  {
   "cell_type": "code",
   "execution_count": 6,
   "metadata": {},
   "outputs": [
    {
     "name": "stdout",
     "output_type": "stream",
     "text": [
      "set up of dataloader done\n"
     ]
    }
   ],
   "source": [
    "def pad_sequence(batch):\n",
    "    \"\"\" \n",
    "    desc: make all tensor in a batch the same length as the longest sequence by padding with zeros \n",
    "    \"\"\"\n",
    "    batch = [torch.from_numpy(item) for item in batch]\n",
    "    batch = torch.nn.utils.rnn.pad_sequence(batch, batch_first=True, padding_value=0.)\n",
    "    return batch.permute(0, 2, 1)  # in each tensor, target first, tensor second\n",
    "\n",
    "# encoding each word using its index in the list of labels\n",
    "def label_to_index(word):\n",
    "    \"\"\" \n",
    "    desc: return the position of the word in labels \n",
    "    \"\"\"\n",
    "    return torch.tensor(labels.index(word))\n",
    "    \n",
    "def collate_fn(batch):\n",
    "    \"\"\" \n",
    "    desc: turn audio's list batch into two batch tensors for model \n",
    "    \"\"\"\n",
    "    tensors, targets = [], []\n",
    "\n",
    "    # Gather in lists, and encode labels as indices\n",
    "    for waveform, _, label, *_ in batch:\n",
    "        tensors += [waveform]\n",
    "        targets += [label_to_index(label)]\n",
    "\n",
    "    # Group the list of tensors into a batched tensor\n",
    "    tensors = pad_sequence(tensors)\n",
    "    targets = torch.stack(targets)\n",
    "    return tensors, targets\n",
    "\n",
    "    \n",
    "# sets in to dataloaders\n",
    "batch_size = 256\n",
    "train_loader = torch.utils.data.DataLoader(\n",
    "    train_set, batch_size=batch_size, shuffle=True, collate_fn=collate_fn,\n",
    "    num_workers=num_workers, pin_memory=pin_memory)\n",
    "validation_loader = torch.utils.data.DataLoader(\n",
    "    validation_set, batch_size=batch_size, shuffle=False, drop_last=False,\n",
    "    collate_fn=collate_fn, num_workers=num_workers, pin_memory=pin_memory)\n",
    "test_loader = torch.utils.data.DataLoader(\n",
    "    validation_set, batch_size=batch_size, shuffle=False, drop_last=False,\n",
    "    collate_fn=collate_fn, num_workers=num_workers, pin_memory=pin_memory)\n",
    "print(f\"set up of dataloader done\")"
   ]
  },
  {
   "cell_type": "code",
   "execution_count": 7,
   "metadata": {
    "jp-MarkdownHeadingCollapsed": true,
    "tags": []
   },
   "outputs": [],
   "source": [
    "# MODEL (adapted from there: https://www.kaggle.com/code/talmanr/cnn-with-pytorch-using-mel-features/notebook)\n",
    "class CnnAudioNet(nn.Module):\n",
    "    def __init__(self,NumClasses):\n",
    "        super(CnnAudioNet,self).__init__()\n",
    "        self.NumClasses = NumClasses\n",
    "        self.Fc_features = 128\n",
    "        self.C1 = nn.Conv2d(1,32,3,padding=1)\n",
    "        self.C2 = nn.Conv2d(32,32,5,padding=1)\n",
    "        self.BN1 = nn.BatchNorm2d(32)  # change size of batch norm?\n",
    "        self.fc1 = nn.Linear(6080,128)\n",
    "        self.fc2 = nn.Linear(128, self.NumClasses)\n",
    "        self.maxpool1 = nn.MaxPool2d(2,2)\n",
    "        self.dropout = nn.Dropout(0.25)\n",
    "\n",
    "\n",
    "    def forward(self,x):        \n",
    "        x = F.relu(self.BN1(self.C1(x)))\n",
    "        x = self.maxpool1(F.relu(self.BN1(self.C2(x))))\n",
    "                \n",
    "        x = (x.view(-1,np.prod(x.shape[1:]))) # self.dropout\n",
    "        # dim to know here for fully connected\n",
    "        # print(x.shape)\n",
    "        x = self.dropout(self.fc1(x))\n",
    "        x = self.fc2(x)\n",
    "        return x\n",
    "\n",
    "labels = sorted(list(set(datapoint[2] for datapoint in train_set)))  \n",
    "\n",
    "model = CnnAudioNet(len(labels))\n",
    "model.to(device)  # convert initialized model to CUDA optimized model\n",
    "optimizer = optim.Adam(params=model.parameters(), lr=0.001)"
   ]
  },
  {
   "cell_type": "code",
   "execution_count": 9,
   "metadata": {
    "tags": []
   },
   "outputs": [
    {
     "name": "stderr",
     "output_type": "stream",
     "text": [
      "100%|██████████| 20/20 [02:30<00:00,  7.51s/it]\n"
     ]
    },
    {
     "data": {
      "image/png": "[encoded data removed]",
      "text/plain": [
       "<Figure size 432x288 with 1 Axes>"
      ]
     },
     "metadata": {
      "needs_background": "light"
     },
     "output_type": "display_data"
    }
   ],
   "source": [
    "from preprocessing import Preprocessing  # run first with - F.nll_loss 10 iterations, than +F.nll_loss 20 iterations, it works starts to have results, lr 1e-3\n",
    "\n",
    "\n",
    "\n",
    "processor = Preprocessing(train_set, validation_set, test_set)\n",
    "model.train()\n",
    "\n",
    "train_loss_history, nb_epochs = [], 20\n",
    "valid_loss_history = []\n",
    "for epoch in tqdm(range(nb_epochs)):\n",
    "    \n",
    "    # train and eval train loss\n",
    "    train_loss = 0.0\n",
    "    for batch_idx, (data, target) in enumerate(train_loader):\n",
    "\n",
    "        target = target.to(device)\n",
    "        data = (data-data.mean())/data.std()\n",
    "\n",
    "        data = data.to(device, dtype=torch.float)\n",
    "        output = model(data.unsqueeze(1))\n",
    "        _, pred = torch.max(output,1)\n",
    "\n",
    "        # negative log-likelihood for tensor of size (batch x 1 x n_output)\n",
    "        loss = F.nll_loss(output, target)\n",
    "\n",
    "        optimizer.zero_grad()  \n",
    "        loss.backward()  \n",
    "        optimizer.step()\n",
    "\n",
    "        train_loss += loss.item()\n",
    "    # print('Train batch loss: {:.6f},'.format(train_loss))\n",
    "    train_loss_history.append(loss)\n",
    "    \n",
    "#     # eval val loss\n",
    "#     with torch.no_grad():\n",
    "#         model.eval()\n",
    "#         valid_loss = 0 \n",
    "#         for data, target in validation_loader:\n",
    "            \n",
    "#             target = target.to(device)\n",
    "#             data = data.to(device, dtype=torch.float)\n",
    "#             output = model(data.unsqueeze(1))\n",
    "#             _,pred = torch.max(output,1)\n",
    "            \n",
    "#             loss = F.nll_loss(output, target)\n",
    "#             valid_loss += loss.item()\n",
    "#     valid_loss_history.append(valid_loss)\n",
    "            \n",
    "            \n",
    "\n",
    "    \n",
    "plt.plot(train_loss_history, \"r--\", label=\"train_loss\")\n",
    "# plt.plot(valid_loss_history, \"g--\", label=\"val_loss\")\n",
    "plt.legend();"
   ]
  },
  {
   "cell_type": "code",
   "execution_count": 10,
   "metadata": {},
   "outputs": [
    {
     "data": {
      "text/plain": [
       "tensor([14, 14, 14, 14, 14, 14, 14, 14, 14, 14, 14,  6,  6, 14, 14, 14, 14,  6,\n",
       "        14, 14, 14, 14, 14, 14, 14, 14, 14, 14, 14, 14, 14, 14, 14, 14,  6,  6,\n",
       "        14, 14, 14, 14, 14, 14, 14, 14, 14,  6, 14, 14, 14, 14, 14, 14, 14, 14,\n",
       "         6, 14, 14, 14, 14, 14, 14, 14, 14, 14, 14, 14, 14, 14, 14,  6, 14, 14,\n",
       "        14, 14,  6, 14, 14, 14, 14, 14, 14, 14, 14, 14,  6, 14, 14, 14, 14, 14,\n",
       "        14, 14, 14, 14, 14, 14, 14, 14, 14, 14, 14, 14, 14, 14, 14,  6, 14, 14,\n",
       "        14, 14,  6, 14, 14, 14, 14, 14, 14, 14, 14, 14, 14, 14, 14, 14, 14, 14,\n",
       "        14, 14, 14, 14, 14,  6, 14, 14, 14, 14, 14, 14, 14, 14],\n",
       "       device='cuda:0')"
      ]
     },
     "execution_count": 10,
     "metadata": {},
     "output_type": "execute_result"
    }
   ],
   "source": [
    "pred"
   ]
  },
  {
   "cell_type": "code",
   "execution_count": 11,
   "metadata": {},
   "outputs": [
    {
     "data": {
      "text/plain": [
       "tensor([10,  7, 10,  7,  4,  5,  7, 13,  7,  6,  5,  5,  7,  7, 10,  8,  4,  5,\n",
       "         5,  2, 11,  5,  8, 11,  5,  4, 10, 12,  6,  5,  6,  1,  1,  7,  1,  3,\n",
       "         7,  4,  9,  6, 10,  6,  2,  7, 11,  1,  8,  9,  6,  0,  9,  7,  5,  4,\n",
       "        13, 14,  6,  2,  6,  4, 13,  3, 11,  3, 13, 12, 11,  2, 11, 11,  0, 14,\n",
       "         6, 11,  7,  5,  1,  7,  7,  6, 10,  7,  5,  9, 10,  8,  2,  6,  0,  4,\n",
       "         2, 11,  3,  4,  0, 11,  9,  7, 10, 11,  2, 10,  1, 12,  7,  1,  4,  4,\n",
       "         4,  7,  8, 13,  7,  5,  9, 13,  7, 11,  8, 13,  5,  5, 12, 10, 12, 11,\n",
       "        10, 11,  5,  2,  8,  7,  2,  7,  3,  6, 11, 13,  5, 12],\n",
       "       device='cuda:0')"
      ]
     },
     "execution_count": 11,
     "metadata": {},
     "output_type": "execute_result"
    }
   ],
   "source": [
    "target"
   ]
  },
  {
   "cell_type": "code",
   "execution_count": 12,
   "metadata": {},
   "outputs": [
    {
     "data": {
      "text/plain": [
       "tensor(94697184., device='cuda:0', grad_fn=<NllLossBackward>)"
      ]
     },
     "execution_count": 12,
     "metadata": {},
     "output_type": "execute_result"
    }
   ],
   "source": [
    "loss"
   ]
  },
  {
   "cell_type": "code",
   "execution_count": 13,
   "metadata": {},
   "outputs": [
    {
     "data": {
      "text/plain": [
       "674.9401492337615"
      ]
     },
     "execution_count": 13,
     "metadata": {},
     "output_type": "execute_result"
    }
   ],
   "source": [
    "np.max(train_set[100][0])"
   ]
  }
 ],
 "metadata": {
  "kernelspec": {
   "display_name": "viscando",
   "language": "python",
   "name": "viscando"
  },
  "language_info": {
   "codemirror_mode": {
    "name": "ipython",
    "version": 3
   },
   "file_extension": ".py",
   "mimetype": "text/x-python",
   "name": "python",
   "nbconvert_exporter": "python",
   "pygments_lexer": "ipython3",
   "version": "3.8.12"
  }
 },
 "nbformat": 4,
 "nbformat_minor": 4
}
