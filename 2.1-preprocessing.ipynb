{
 "cells": [
  {
   "cell_type": "code",
   "execution_count": 1,
   "metadata": {},
   "outputs": [
    {
     "name": "stdout",
     "output_type": "stream",
     "text": [
      "running on GPU = True\n",
      "1. extracting subsets\n"
     ]
    },
    {
     "name": "stderr",
     "output_type": "stream",
     "text": [
      "  0%|          | 82/84843 [00:00<01:43, 818.60it/s]"
     ]
    },
    {
     "name": "stdout",
     "output_type": "stream",
     "text": [
      "   extraction done\n",
      "2. downsampling datasets\n"
     ]
    },
    {
     "name": "stderr",
     "output_type": "stream",
     "text": [
      "100%|██████████| 84843/84843 [01:22<00:00, 1026.28it/s]\n",
      "100%|██████████| 9981/9981 [00:08<00:00, 1163.46it/s]"
     ]
    },
    {
     "name": "stdout",
     "output_type": "stream",
     "text": [
      "   downsampling done\n",
      "3. datasets ready\n",
      "set up of dataloader done\n"
     ]
    },
    {
     "name": "stderr",
     "output_type": "stream",
     "text": [
      "\n"
     ]
    }
   ],
   "source": [
    "from libraries import * \n",
    "from preprocessing import SubsetSC, Preprocessing\n",
    "from utils import downsample, pad_sequence\n",
    "warnings.filterwarnings(\"ignore\")\n",
    "\n",
    "# selecting GPU if possible\n",
    "device = torch.device(\"cuda\" if torch.cuda.is_available() else \"cpu\")\n",
    "print(f\"running on GPU = {str(device) == 'cuda'}\")\n",
    "\n",
    "# create training validation splits, see later for test\n",
    "print(f\"1. extracting subsets\")\n",
    "train_set = SubsetSC(\"training\")\n",
    "validation_set = SubsetSC(\"validation\")\n",
    "test_set = [] # SubsetSC(\"test\")\n",
    "print(f\"   extraction done\")\n",
    "\n",
    "# performing downsampling for faster computation\n",
    "downsampling = True\n",
    "if downsampling:\n",
    "    print(f\"2. downsampling datasets\")\n",
    "    train_set = downsample(train_set)\n",
    "    validation_set = downsample(validation_set)\n",
    "    # test_set = downsample(test_set)\n",
    "print(f\"   downsampling done\")\n",
    "print(f\"3. datasets ready\")\n",
    "\n",
    "# setting up computational parameters\n",
    "if device == \"cuda\":\n",
    "    num_workers, pin_memory = 4, True\n",
    "else:\n",
    "    num_workers, pin_memory = 0, False\n",
    "\n",
    "\n",
    "    \n",
    "# bunch of useful functions ************************\n",
    "# **************************************************\n",
    "    \n",
    "# display the list of labels available in the dataset\n",
    "labels = sorted(list(set(datapoint[2] for datapoint in train_set)))    \n",
    "    \n",
    "    \n",
    "def collate_fn(batch):\n",
    "    \"\"\" \n",
    "    desc: turn audio's list batch into two batch tensors for model \n",
    "    \"\"\"\n",
    "    tensors, targets = [], []\n",
    "\n",
    "    # Gather in lists, and encode labels as indices\n",
    "    for waveform, _, label, *_ in batch:\n",
    "        tensors += [waveform]\n",
    "        targets += [label_to_index(label)]\n",
    "\n",
    "    # Group the list of tensors into a batched tensor\n",
    "    tensors = pad_sequence(tensors)\n",
    "    targets = torch.stack(targets)\n",
    "    return tensors, targets\n",
    "\n",
    "\n",
    "def index_to_label(index):\n",
    "    \"\"\" \n",
    "    desc: return the word corresponding to the index in labels \n",
    "    \"\"\"\n",
    "    return labels[index]\n",
    "\n",
    "\n",
    "# encoding each word using its index in the list of labels\n",
    "def label_to_index(word):\n",
    "    \"\"\" \n",
    "    desc: return the position of the word in labels \n",
    "    \"\"\"\n",
    "    return torch.tensor(labels.index(word))\n",
    "\n",
    "\n",
    "# ****************************************\n",
    "# ****************************************\n",
    "\n",
    "\n",
    "# sets in to dataloaders\n",
    "batch_size = 256\n",
    "train_loader = torch.utils.data.DataLoader(\n",
    "    train_set, batch_size=batch_size, shuffle=True, collate_fn=collate_fn,\n",
    "    num_workers=num_workers, pin_memory=pin_memory)\n",
    "validation_loader = torch.utils.data.DataLoader(\n",
    "    validation_set, batch_size=batch_size, shuffle=False, drop_last=False,\n",
    "    collate_fn=collate_fn, num_workers=num_workers, pin_memory=pin_memory)\n",
    "test_loader = torch.utils.data.DataLoader(\n",
    "    validation_set, batch_size=batch_size, shuffle=False, drop_last=False,\n",
    "    collate_fn=collate_fn, num_workers=num_workers, pin_memory=pin_memory)\n",
    "print(f\"set up of dataloader done\")"
   ]
  },
  {
   "cell_type": "code",
   "execution_count": null,
   "metadata": {},
   "outputs": [],
   "source": [
    "validation_set"
   ]
  },
  {
   "cell_type": "code",
   "execution_count": 96,
   "metadata": {},
   "outputs": [
    {
     "name": "stdout",
     "output_type": "stream",
     "text": [
      "CnnAudioNet(\n",
      "  (C1): Conv2d(1, 32, kernel_size=(3, 3), stride=(1, 1), padding=(1, 1))\n",
      "  (BN1): BatchNorm2d(32, eps=1e-05, momentum=0.1, affine=True, track_running_stats=True)\n",
      "  (fc1): Linear(in_features=15808, out_features=128, bias=True)\n",
      "  (fc2): Linear(in_features=128, out_features=35, bias=True)\n",
      ")\n",
      "Number of parameters: 2028451\n",
      "tensor([[-1.0375e-04, -4.0077e-04, -5.4308e-04,  ..., -1.6332e-04,\n",
      "          2.0022e-04,  7.9851e-04],\n",
      "        [ 1.1458e-05, -1.3454e-05, -8.4859e-07,  ..., -6.5344e-05,\n",
      "         -4.0961e-05, -1.2225e-05],\n",
      "        [-3.5273e-05,  2.9989e-05,  1.2140e-04,  ..., -8.2515e-05,\n",
      "         -9.4482e-05, -8.6488e-05],\n",
      "        ...,\n",
      "        [-5.3392e-05, -8.1919e-05, -8.9945e-05,  ..., -1.0134e-04,\n",
      "         -1.0786e-04, -1.3306e-04],\n",
      "        [ 4.5527e-03,  7.7598e-03,  6.7922e-03,  ...,  1.7781e-03,\n",
      "         -1.7893e-03, -5.2418e-03],\n",
      "        [-9.5552e-06,  5.6219e-05,  4.4254e-05,  ...,  1.0691e-04,\n",
      "          1.2373e-04, -1.4221e-04]])\n",
      "torch.Size([256, 1, 38, 13])\n",
      "torch.Size([256, 32, 38, 13])\n",
      "torch.Size([256, 15808])\n",
      "torch.Size([256, 128])\n",
      "torch.Size([256, 35])\n",
      "output.argmax(1)\n",
      "torch.Size([256])\n",
      "target.shape\n",
      "torch.Size([256])\n",
      "tensor(nan, device='cuda:0', grad_fn=<NllLossBackward>)\n"
     ]
    }
   ],
   "source": [
    "from preprocessing import Preprocessing\n",
    "processor = Preprocessing(train_set, validation_set, test_set)\n",
    "#\n",
    "class CnnAudioNet(nn.Module):\n",
    "    def __init__(self,NumClasses):\n",
    "        super(CnnAudioNet,self).__init__()\n",
    "        self.NumClasses = NumClasses\n",
    "        self.Fc_features = 128\n",
    "        self.C1 = nn.Conv2d(1,32,3,padding=1)\n",
    "        self.BN1 = nn.BatchNorm2d(32)\n",
    "        self.fc1 = nn.Linear(15808,128)\n",
    "        self.fc2 = nn.Linear(128, self.NumClasses )\n",
    "\n",
    "        \n",
    "        \n",
    "    def forward(self,x):\n",
    "        print(x.shape)\n",
    "       \n",
    "        # print(self.C1(x)[0][0][0])\n",
    "        # print(self.BN1(self.C1(x))[0][0][0]) returns nan\n",
    "        \n",
    "        # add sequence of convolutional and max pooling layers\n",
    "        x = F.relu(self.C1(x))\n",
    "        print(x.shape)\n",
    "        \n",
    "        \n",
    "        # flatten image input\n",
    "        x = (x.view(-1,np.prod(x.shape[1:]))) # self.dropout\n",
    "        print(x.shape)\n",
    "        \n",
    "        # add dropout layer\n",
    "        x =  (self.fc1(x)) # self.dropout\n",
    "        print(x.shape)\n",
    "        # add 1st hidden layer, with relu activation function\n",
    "        # add dropout layer\n",
    "        # add 2nd hidden layer, with relu activation function\n",
    "        #x = torch.sigmoid(self.fc2(x))\n",
    "        x = self.fc2(x)\n",
    "        print(x.shape)\n",
    "        return x\n",
    "  \n",
    "criterion = nn.BCEWithLogitsLoss()\n",
    "#criterion = nn.MultiLabelSoftMarginLoss()\n",
    "\n",
    "optimizer = optim.Adam(params=model.parameters(), lr=0.001)# specify optimizer\n",
    "#optimizer = optim.Adam(model.parameters(), lr=0.005)\n",
    "\n",
    "\n",
    "def count_parameters(model):\n",
    "    \"\"\" desc: return number of parameter in model \"\"\"\n",
    "    return sum(p.numel() for p in model.parameters() if p.requires_grad)\n",
    "\n",
    "\n",
    "\n",
    "model = CnnAudioNet(len(labels))\n",
    "model.to(device)  # convert initialized model to CUDA optimized model\n",
    "print(model)\n",
    "print(f\"Number of parameters: {count_parameters(model)}\")\n",
    "\n",
    "model.train()\n",
    "for batch_idx, (data, target) in enumerate(train_loader):\n",
    "    if batch_idx > 0:\n",
    "        break\n",
    "    print(data.squeeze())\n",
    "    \n",
    "    # move data to device (device = GPU if available)\n",
    "    lmfs = processor.process_dataset(data.squeeze()) # bientot process batch\n",
    "    lmfs = torch.from_numpy(np.array(lmfs)).to(device, dtype=torch.float)\n",
    "    target = target.to(device)\n",
    "    \n",
    "    output = model(lmfs.unsqueeze(1))\n",
    "    \n",
    "    \n",
    "    # negative log-likelihood for tensor of size (batch x 1 x n_output)\n",
    "    loss = F.nll_loss(output, target)\n",
    "    print(f\"output.argmax(1)\")\n",
    "    print(output.argmax(1).shape)\n",
    "    print(f\"target.shape\")\n",
    "    print(target.shape)\n",
    "\n",
    "    optimizer.zero_grad()  # explicitly set gradients to zero before starting backpropragation\n",
    "    loss.backward()  # compute gradients\n",
    "    optimizer.step()  # optimization step: update of parameters\n",
    "    \n",
    "    print(loss)\n",
    "    \n",
    "    \n",
    "\n",
    "    \n",
    "\n",
    "\n",
    "    \n"
   ]
  },
  {
   "cell_type": "code",
   "execution_count": 33,
   "metadata": {},
   "outputs": [
    {
     "name": "stdout",
     "output_type": "stream",
     "text": [
      "size of input batches torch.Size([256, 38, 13])\n"
     ]
    }
   ],
   "source": [
    "print(f\"size of input batches {lmfs.shape}\")"
   ]
  },
  {
   "cell_type": "code",
   "execution_count": 50,
   "metadata": {},
   "outputs": [
    {
     "data": {
      "text/plain": [
       "988"
      ]
     },
     "execution_count": 50,
     "metadata": {},
     "output_type": "execute_result"
    }
   ],
   "source": [
    "38*13*2"
   ]
  },
  {
   "cell_type": "code",
   "execution_count": 31,
   "metadata": {},
   "outputs": [
    {
     "data": {
      "text/plain": [
       "torch.Size([256, 38, 13])"
      ]
     },
     "execution_count": 31,
     "metadata": {},
     "output_type": "execute_result"
    }
   ],
   "source": [
    "lmfs.shape"
   ]
  },
  {
   "cell_type": "code",
   "execution_count": 30,
   "metadata": {},
   "outputs": [
    {
     "data": {
      "text/plain": [
       "torch.Size([256, 1, 38, 13])"
      ]
     },
     "execution_count": 30,
     "metadata": {},
     "output_type": "execute_result"
    }
   ],
   "source": [
    "lmfs.unsqueeze(1).shape"
   ]
  },
  {
   "cell_type": "code",
   "execution_count": 114,
   "metadata": {},
   "outputs": [
    {
     "data": {
      "text/plain": [
       "<matplotlib.collections.QuadMesh at 0x7f9c4dca9c10>"
      ]
     },
     "execution_count": 114,
     "metadata": {},
     "output_type": "execute_result"
    },
    {
     "data": {
      "image/png": "[encoded data removed]",
      "text/plain": [
       "<Figure size 432x288 with 1 Axes>"
      ]
     },
     "metadata": {
      "needs_background": "light"
     },
     "output_type": "display_data"
    }
   ],
   "source": [
    "plt.pcolormesh(lmfs.cpu()[0])"
   ]
  },
  {
   "cell_type": "code",
   "execution_count": 107,
   "metadata": {},
   "outputs": [
    {
     "data": {
      "text/plain": [
       "tensor(True, device='cuda:0')"
      ]
     },
     "execution_count": 107,
     "metadata": {},
     "output_type": "execute_result"
    }
   ],
   "source": []
  },
  {
   "cell_type": "code",
   "execution_count": null,
   "metadata": {},
   "outputs": [],
   "source": [
    "def train(model, epoch, log_interval):\n",
    "    \"\"\"  desc: feed training data into model, perform backward pass and optimization steps \"\"\"\n",
    "    model.train()\n",
    "    for batch_idx, (data, target) in enumerate(train_loader):\n",
    "        ipd.clear_output()\n",
    "\n",
    "        # move data to device (device = GPU if available)\n",
    "        data = data.to(device)\n",
    "        target = target.to(device)\n",
    "\n",
    "        # apply transform and model on whole batch on device\n",
    "        data = transform(data)\n",
    "        output = model(data)\n",
    "\n",
    "        # negative log-likelihood for tensor of size (batch x 1 x n_output)\n",
    "        loss = F.nll_loss(output.squeeze(), target)\n",
    "\n",
    "        optimizer.zero_grad()  # explicitly set gradients to zero before starting backpropragation\n",
    "        loss.backward()  # compute gradients\n",
    "        optimizer.step()  # optimization step: update of parameters\n",
    "\n",
    "        # print training stats\n",
    "        if batch_idx % log_interval == 0:\n",
    "            print(f\"Train Epoch: {epoch} [{batch_idx * len(data)}/{len(train_loader.dataset)} ({100. * batch_idx / len(train_loader):.0f}%)]\\tLoss: {loss.item():.6f}\")\n",
    "        # update progress bar\n",
    "        pbar.update(pbar_update)  # pbar comes from tqdm, defined later\n",
    "        \n",
    "        # record loss\n",
    "        losses.append(loss.item())"
   ]
  },
  {
   "cell_type": "code",
   "execution_count": 4,
   "metadata": {},
   "outputs": [
    {
     "data": {
      "text/html": [
       "\n",
       "                <audio  controls=\"controls\" >\n",
       "                    <source src=\"data:audio/wav;base64,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\" type=\"audio/wav\" />\n",
       "                    Your browser does not support the audio element.\n",
       "                </audio>\n",
       "              "
      ],
      "text/plain": [
       "<IPython.lib.display.Audio object>"
      ]
     },
     "metadata": {},
     "output_type": "display_data"
    },
    {
     "data": {
      "image/png": "[encoded data removed]",
      "text/plain": [
       "<Figure size 576x288 with 2 Axes>"
      ]
     },
     "metadata": {
      "needs_background": "light"
     },
     "output_type": "display_data"
    }
   ],
   "source": [
    "data, sr, *_ = train_set[9000]\n",
    "waveform, lmfs, lmfcc = data\n",
    "display(ipd.Audio(waveform.numpy(), rate=sr))\n",
    "fig, axs = plt.subplots(2, 1, figsize=(8, 4))\n",
    "axs[0].plot(waveform.t().numpy());\n",
    "axs[1].pcolormesh(enframe(waveform).T);"
   ]
  },
  {
   "cell_type": "code",
   "execution_count": null,
   "metadata": {},
   "outputs": [],
   "source": []
  }
 ],
 "metadata": {
  "kernelspec": {
   "display_name": "Python 3",
   "language": "python",
   "name": "python3"
  },
  "language_info": {
   "codemirror_mode": {
    "name": "ipython",
    "version": 3
   },
   "file_extension": ".py",
   "mimetype": "text/x-python",
   "name": "python",
   "nbconvert_exporter": "python",
   "pygments_lexer": "ipython3",
   "version": "3.8.3"
  }
 },
 "nbformat": 4,
 "nbformat_minor": 4
}
